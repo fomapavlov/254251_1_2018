{
 "cells": [
  {
   "cell_type": "markdown",
   "metadata": {},
   "source": [
    "# บทที่ 11 ต้นไม้ค้นหาแบบทวิภาคสมดุล\n",
    "เราได้เรียนรู้จากบทที่แล้วว่าต้นไม้ค้นหาจะทำงานได้อย่างมีประสิทธิภาพเมื่อต้นไม้มีความสมดุล ดังนั้นในบทนี้เราจะเรียนรู้ว่าวิธีการสร้างและใช้งานต้นไม้ให้รักษาสภาพสมดุลได้นั้นมีกระบวนการอย่างไร โดยต้นไม้ค้นหาแบบทวิภาคสมดุลที่จะกล่าวถึงในบทนี้คือ ต้นไม้เอวีแอล (AVL tree)\n",
    "\n",
    "## 11.1 จุดประสงค์\n",
    "* เพื่อให้เข้าใจถึงคุณสมบัติของต้นไม้ค้นหาแบบทวิภาคสมดุล\n",
    "* เพื่อให้เข้าใจหลักการของต้นไม้เอวีแอล\n",
    "\n",
    "## 11.2 ปัจจัยความสมดุล (balance factor)\n",
    "การที่จะบอกได้ว่าต้นไม้มีความสมดุลหรือไม่นั้นต้องมีการคำนวณสิ่งที่เรียกว่า ปัจจัยความสมดุล โดยสิ่งที่นำมาคำนวณคือความสูงของต้นไม้ย่อยซ้ายและขวาดังสมการ\n",
    "\n",
    "$$ balanceFactor = height(leftSubTree) - height(rightSubTree) $$\n",
    "\n",
    "เมื่อค่าปัจจัยความสมดุลมีค่าเป็น 0 คือต้นไม้มีความสมดุลอย่างสมบูรณ์ หากมีค่าเป็นบวกคือต้นไม้หนักไปทางซ้าย หากมีค่าเป็นลบคือต้ไม้หนักไปทางขวา แต่ในการสร้างต้นไม้เอวีแอล ต้นไม้สมดุลนั้นนิยามด้วยค่าปัจจัยความสมดุล -1, 0 และ 0 นอกเหนือจากนี้จะถือว่าต้นไม้ไม่สมดุล โดยความสมดุลนั้นจะต้องเกิดขึ้นที่ทุกๆ ต้นไม้ย่อยของต้นไม้ใหญ่\n",
    "\n",
    "## 11.3 หลักการของต้นไม้เอวีแอล\n",
    "ต้นไม้เอวีแอลจะเพิ่มกระบวนการบางอย่างจากต้นไม้ปกติเพื่อรักษาความสมดุล ซึ่งในการเพิ่มปมเราจะพบว่าปมที่เพิ่มจะเป็นใบอยู่แล้วซึ่งมีความสมดุลในตัวเอง แต่สิ่งที่ต้องคำนึงถึงคือพ่อของมันจะสมดุลด้วยหรือไม่ แน่นอนว่าหากปมที่เพิ่มมาเป็นลูกซ้ายค่าปัจจัยความสมดุลที่พ่อของมันจะเพิ่มไป 1 หากเป็นลูกขวาค่าปัจจัยความสมดุลที่พ่อจะลดลง 1 และส่งผลกระทบต่อบรรพบุรุษขึ้นไปอีก และมีโอกาสส่งผลจนไปถึงรากได้ ดังนั้นสิ่งที่เราต้องรู้และมีการปรับเมื่อมีการเพิ่มปมคือค่าปัจจัยความสมดุลตั้งแต่ปมใบที่เพิ่มจนอาจจะถึงราก โดยอาศัยกรณีฐานดังนี้\n",
    "* ทำการเรียกความสัมพันธ์เวียนเกิดจนไปถึงราก\n",
    "* ค่าปัจจัยความสมดุลของพ่อเป็น 0 กรณีนี้หมายความว่าค่าปัจจัยความสมดุลของบรรพบุรุษจะไม่เปลี่ยนแปลง\n"
   ]
  },
  {
   "cell_type": "code",
   "execution_count": 1,
   "metadata": {
    "collapsed": true
   },
   "outputs": [],
   "source": [
    "def updateBalance(self,node):\n",
    "    if node.balanceFactor > 1 or node.balanceFactor < -1:\n",
    "        self.rebalance(node)\n",
    "        return\n",
    "    if node.parent != None:\n",
    "        if node.isLeftChild():\n",
    "                node.parent.balanceFactor += 1\n",
    "        elif node.isRightChild():\n",
    "                node.parent.balanceFactor -= 1\n",
    "\n",
    "        if node.parent.balanceFactor != 0:\n",
    "                self.updateBalance(node.parent)"
   ]
  },
  {
   "cell_type": "markdown",
   "metadata": {},
   "source": [
    "จากรหัสจะเห็นว่าถ้าปมชื่อ node หรือปมที่สนใจอยู่มีค่าปัจจัยความสมดุลที่ผิดเงื่อนไข จะต้องทำการปรับสมดุลต้นไม้ดังบรรทัดที่ 2-3 หลักจากนั้นจึงมีตรวจสอบว่าเป็นรากหรือไม่หากเป็นจะทำการปรับค่าปัจจัยความสมดุลของพ่อ แล้วตรวจสอบต่อว่าค่าปัจจัยความสมดุลของพ่อเป็น 0 หรือไม่ ถ้าไม่เป็นจะต้องเรียกความสัมพันธ์เวียนเกิดเพื่อปรับค่าต่อไป\n",
    "\n",
    "ส่วนถัดไปคือการทำให้สมดุลจะขอกล่าวเพียงหลักการเท่านั้นส่วนของการพิสูจน์จะขอละไว้ เมื่อต้นไม้ต้องการการทำให้สมดุลวิธีที่จะทำได้ตามหลักของต้นไม้เอวีแอลคือ การหมุน (rotation) เพื่อให้เข้าใจหลักการง่ายๆ ของการหมุน เรามาดูกันที่ตัวอย่างใน [รูปที่ 11-1](#figure_01) (จาก [interactivepython](http://interactivepython.org/runestone/static/pythonds/Trees/AVLTreeImplementation.html)) ที่มีค่าปัจจัยความสมดุลที่ A คือ -2 เราจะใช้การหมุนทางซ้ายเพื่อทำให้สมดุล\n",
    "\n",
    "<a name=\"figure_01\"></a> \n",
    "![alt text](/files/imgs/simpleunbalanced.png)\n",
    "<center>รูปที่ 11-1 การหมุนทางซ้าย</center>\n",
    "\n",
    "ขั้นตอนของการหมุนทางซ้ายมีดังนี้\n",
    "* นำลูกขวามาเป็นรากใหม่ของต้นไม้ย่อย\n",
    "* นำรากเดิมมาเป็นลูกซ้ายของรากใหม่\n",
    "* ถ้ารากใหม่มีลูกซ้ายอยู่แล้ว ให้นำลูกซ้ายมาเป็นลูกขวาของลูกซ้ายใหม่แทน\n",
    "\n",
    "ส่วนขั้นตอนของการหมุนทางขวามีดังนี้\n",
    "* นำลูกซ้ายมาเป็นรากใหม่ของต้นไม้ย่อย\n",
    "* นำรากเดิมมาเป็นลูกขวาของรากใหม่\n",
    "* ถ้ารากใหม่มีลูกขวาอยู่แล้ว ให้นำลูกขวามาเป็นลูกซ้ายของลูกขวาใหม่แทน\n",
    "\n",
    "ตัวอย่างใน [รูปที่ 11-2](#figure_02) (จาก [interactivepython](http://interactivepython.org/runestone/static/pythonds/Trees/AVLTreeImplementation.html)) ที่มีค่าปัจจัยความสมดุลที่ E คือ 2 เราจะใช้การหมุนทางขวาเพื่อทำให้สมดุล ซึ่งจะมีความซับซ้อนตรงที่ รากใหม่ C มีลูกขวา D อยู่แล้ว จึงต้องนำ D มาเป็นลูกซ้ายของลูกขวาใหม่ E แทน\n",
    "\n",
    "<a name=\"figure_02\"></a> \n",
    "![alt text](/files/imgs/rightrotate1.png)\n",
    "<center>รูปที่ 11-2 การหมุนทางขวา</center>"
   ]
  },
  {
   "cell_type": "code",
   "execution_count": 2,
   "metadata": {
    "collapsed": true
   },
   "outputs": [],
   "source": [
    "def rotateLeft(self,rotRoot):\n",
    "    newRoot = rotRoot.rightChild\n",
    "    rotRoot.rightChild = newRoot.leftChild\n",
    "    if newRoot.leftChild != None:\n",
    "        newRoot.leftChild.parent = rotRoot\n",
    "    newRoot.parent = rotRoot.parent\n",
    "    if rotRoot.isRoot():\n",
    "        self.root = newRoot\n",
    "    else:\n",
    "        if rotRoot.isLeftChild():\n",
    "                rotRoot.parent.leftChild = newRoot\n",
    "        else:\n",
    "            rotRoot.parent.rightChild = newRoot\n",
    "    newRoot.leftChild = rotRoot\n",
    "    rotRoot.parent = newRoot\n",
    "    rotRoot.balanceFactor = rotRoot.balanceFactor + 1 - min(newRoot.balanceFactor, 0)\n",
    "    newRoot.balanceFactor = newRoot.balanceFactor + 1 + max(rotRoot.balanceFactor, 0)"
   ]
  },
  {
   "cell_type": "markdown",
   "metadata": {},
   "source": [
    "ในส่วนของกระบวนการหมุนทางซ้ายจะอยู่ในบรรทัดที่ 2-15 จะไม่ขออธิบาย แต่เมื่อทำการหมุนเสร็จแล้วจะต้องมีการปรับค่าปัจจัยความสมดุลของรากเก่าและรากใหม่ ดังบรรทัดที่ 16-17 ซึ่งจะเห็นว่าเป็นสูตรสำเร็จโดยไม่จำเป็นต้องค้นหาความสูงของต้นไม้ย่อยทุกครั้ง (ขอละการพิสูจน์)\n",
    "\n",
    "แต่ยังเหลือกรณีที่การหมุนไม่ได้ช่วยแก้ปัญหาความสมดุล ดังตัวอย่างใน [รูปที่ 11-3](#figure_03) (จาก [interactivepython](http://interactivepython.org/runestone/static/pythonds/Trees/AVLTreeImplementation.html)) ที่ต้องทำการหมุนทางซ้าย\n",
    "\n",
    "<a name=\"figure_03\"></a> \n",
    "![alt text](/files/imgs/hardunbalanced.png)\n",
    "<center>รูปที่ 11-3 การหมุนที่ไม่แก้ปัญหา</center>\n",
    "\n",
    "แต่ผลที่ได้ใน [รูปที่ 11-4](#figure_04) (จาก [interactivepython](http://interactivepython.org/runestone/static/pythonds/Trees/AVLTreeImplementation.html)) ซึ่งจะเห็นได้ว่ายังไม่สามารถแก้ปัญหาความสมดุลได้\n",
    "\n",
    "<a name=\"figure_04\"></a> \n",
    "![alt text](/files/imgs/badrotate.png)\n",
    "<center>รูปที่ 11-4 ผลของการหมุนที่ไม่แก้ปัญหา</center>\n",
    "\n",
    "วิธีแก้ปัญหานี้ทำได้โดยยึดกฎดังนี้\n",
    "* หากต้นไม้ย่อยนั้นต้องการทำการหมุนทางซ้าย จะต้องตรวจสอบค่าปัจจัยความสมดุลของลูกขวา หากมีค่าหนักไปทางซ้าย (ค่าเป็นบวก) ให้ทำการหมุนทางขวาที่ลูกขวาก่อน แล้วตามด้วยการหมุนทางซ้ายที่รากของต้นไม้ย่อยตามปกติ\n",
    "* หากต้นไม้ย่อยนั้นต้องการทำการหมุนทางขวา จะต้องตรวจสอบค่าปัจจัยความสมดุลของลูกซ้าย หากมีค่าหนักไปทางขวา (ค่าเป็นลบ) ให้ทำการหมุนทางซ้ายที่ลูกซ้ายก่อน แล้วตามด้วยการหมุนทางขวาที่รากของต้นไม้ย่อยตามปกติ\n",
    "\n",
    "ตัวอย่างการใช้กฎดัง [รูปที่ 11-5](#figure_05) (จาก [interactivepython](http://interactivepython.org/runestone/static/pythonds/Trees/AVLTreeImplementation.html)) เมื่อพิจารณาที่ปม A พบว่ามีค่าปัจจัยความสมดุลเป็น -2 จึงต้องการทำการหมุนทางซ้าย ตรวจสอบลูกขวา C พบว่าหนักไปทางซ้าย จึงต้องทำการหมุนทางขวาที่ C ก่อน แล้วจึงหมุนทางซ้ายที่ A\n",
    "\n",
    "<a name=\"figure_05\"></a> \n",
    "![alt text](/files/imgs/rotatelr.png)\n",
    "<center>รูปที่ 11-5 การหมุนทางขวาตามด้วยการหมุนทางซ้าย</center>\n",
    "\n",
    "ในส่วนของรหัสของการแก้ปัญหาการสมดุลทั้งหมดคือ"
   ]
  },
  {
   "cell_type": "code",
   "execution_count": 3,
   "metadata": {
    "collapsed": true
   },
   "outputs": [],
   "source": [
    "def rebalance(self,node):\n",
    "  if node.balanceFactor < 0:\n",
    "         if node.rightChild.balanceFactor > 0:\n",
    "            self.rotateRight(node.rightChild)\n",
    "            self.rotateLeft(node)\n",
    "         else:\n",
    "            self.rotateLeft(node)\n",
    "  elif node.balanceFactor > 0:\n",
    "         if node.leftChild.balanceFactor < 0:\n",
    "            self.rotateLeft(node.leftChild)\n",
    "            self.rotateRight(node)\n",
    "         else:\n",
    "            self.rotateRight(node)"
   ]
  },
  {
   "cell_type": "markdown",
   "metadata": {},
   "source": [
    "ซึ่งจะต้องมีการใช้ทดสอบกฎในบรรทัดที่ 2 \n",
    "\n",
    "เมื่อวิเคราะห์ถึงเวลาในการทำงานแล้วการแก้ปัญหาสมดุลด้วยการหมุนนี้ใช้เวลาเพียง $O(1)$ เพื่อรักษาสมดุลของต้นไม้ทำให้เมธอดอื่นๆ เช่น put, get ที่ต้องมีการค้นหาในต้นไม้ใช้เวลาลดลงเหลือ $O(\\log n)$\n",
    "\n",
    "## 11.4 คำถามท้ายบท\n",
    "1. จงสร้างต้นไม้เอวีแอลโดยมีลำดับการนำเข้าข้อมูลด้งนี้ 1, 2, 3, 4, 5, 6, 7, 8\n",
    "2. จงสร้างต้นไม้เอวีแอลโดยมีลำดับการนำเข้าข้อมูลด้งนี้ 51, 26, 11, 6, 8, 4, 31, 21, 9, 16"
   ]
  }
 ],
 "metadata": {
  "kernelspec": {
   "display_name": "Python 3",
   "language": "python",
   "name": "python3"
  },
  "language_info": {
   "codemirror_mode": {
    "name": "ipython",
    "version": 3
   },
   "file_extension": ".py",
   "mimetype": "text/x-python",
   "name": "python",
   "nbconvert_exporter": "python",
   "pygments_lexer": "ipython3",
   "version": "3.6.0"
  }
 },
 "nbformat": 4,
 "nbformat_minor": 2
}
