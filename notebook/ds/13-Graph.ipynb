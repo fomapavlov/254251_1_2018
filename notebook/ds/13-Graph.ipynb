{
 "cells": [
  {
   "cell_type": "markdown",
   "metadata": {},
   "source": [
    "# บทที่ 13 กราฟ\n",
    "กราฟเป็นโครงสร้างข้อมูลที่มีลักษณะคล้ายๆ กับต้นไม้แต่ใช้งานได้กว้างกว่า โดยสามารถใช้ในการแทนถนนที่แสดงความเชื่อมโยงเมืองต่างๆ หรือแสดงความสัมพันธ์ของรายวิชาที่ต้องเรียนวิชาไหนก่อนหลัง ดังตัวอย่างใน [รูปที่ 13-1](#figure_01) (จาก [interactivepython](http://interactivepython.org/runestone/static/pythonds/Graphs/Objectives.html)) ซึ่งกราฟจะอนุญาตให้มีข้อมูลขาได้มากกว่า 1 เส้นเชื่อมซึ่งต่างจากต้นไม้ที่มีได้แค่ 1 เท่านั้น\n",
    "\n",
    "<a name=\"figure_01\"></a> \n",
    "![alt text](/files/imgs/CS-Prereqs.png)\n",
    "<center>รูปที่ 13-1 ตัวอย่างกราฟแบบไม่มีทิศทาง</center>\n",
    "\n",
    "## 13.1 จุดประสงค์\n",
    "* เพื่อให้เข้าใจถึงการแทนกราฟแบบต่างๆ\n",
    "* เพื่อให้สามารถสร้างโครงสร้างข้อมูลกราฟได้\n",
    "\n",
    "## 13.2 องค์ประกอบของกราฟ \n",
    "องค์ประกอบที่เกี่ยวข้องกับกราฟมีดังนี้\n",
    "* จุดยอด (vertex) หรือปม ทำหน้าที่เก็บข้อมูล\n",
    "* เส้นเชื่อม (edge หรือ arc) แสดงความสัมพันธ์ระหว่างจุดยอด มีได้ 2 แบบคือ ทิศทางเดียวกับสองทิศทาง จากตัวอย่างใน [รูปที่ 13-1](#figure_01) เป็นแบบสองทิศทาง ซึ่งกราฟที่ประกอบด้วยเส้นเชื่อมทิศทางเดียวมีชื่อเรียกว่า กราฟแบบมีทิศทาง (directed graph) ถ้าประกอบด้วยเส้นเชื่อมสองทิศทางจะเรียกว่า กราฟแบบไม่มีทิศทาง (undirected graph)\n",
    "* น้ำหนัก (weight) เป็นการกำหนดค่าให้กับเส้นเชื่อมอาจจะมีหรือไม่มีก็ได้ เช่น ใช้บอกระยะทางที่เชื่อมระหว่างเมืองสองเมือง\n",
    "\n",
    "สามสิ่งนี้เป็นสิ่งที่ใช้อธิบายกราฟ คือ $G = (V,E)$ โดย $V$ คือเซตของจุดยอดและ $E$ คือเซตของเส้นเชื่อม แต่ละเส้นเชื่อมประกอบด้วยคู่ลำดับ $(v,w)$ ซึ่ง $v,w \\in V$ หรือหากมีน้ำหนักเราสามารถเพิ่มตัวเลขในคู่ลำดับได้\n",
    "\n",
    "[รูปที่ 13-2](#figure_02) (จาก [interactivepython](http://interactivepython.org/runestone/static/pythonds/Graphs/VocabularyandDefinitions.html)) แสดงตัวอย่างกราฟแบบมีทิศทาง ที่ประกอบด้วยเซตของจุดยอด \n",
    "$V = \\{V0,V1,V2,V3,V4,V5\\}$ \n",
    "และเซตของเส้นเชื่อม \n",
    "$E = \\{(V0,V1,5),(V1,V2,4),(V2,V3,9),(V3,V4,7),(V4,V0,1),\\\\(V0,V5,2),(V5,V4,8),(V3,V5,3),(V5,V2,1)\\}$\n",
    "\n",
    "<a name=\"figure_02\"></a> \n",
    "![alt text](/files/imgs/digraph.png)\n",
    "<center>รูปที่ 13-2 ตัวอย่างกราฟแบบมีทิศทาง</center>\n",
    "\n",
    "* เส้นทาง (path) คือลำดับชองจุดยอดที่มีเส้นเชื่อมต่อกัน เช่น เส้นทางจาอ $V3$ ไปยัง $V1$ คือลำดับของจุดยอด $V3,V4,V0,V1$ โดยผ่านเส้นเชื่อม $\\{(V3,V4,7), (V4,V0,1),(V0,V1,5)\\}$\n",
    "* วัฏจักร (cycle) เป็นเส้นทางสำหรับกราฟแบบมีทิศทางที่มีจุดเริ่มต้นและจุดสุดท้ายเป็นจุดเดียวกัน กราฟแบบระบุทิศทางที่ไม่มีวัฏจักรจะมีชื่อเรียกว่า กราฟอวัฏจักรระบุทิศทาง (directed acyclic graph หรือ DAG)\n",
    "\n",
    "## 13.3 การแทนกราฟด้วยเมตริกซ์การเชื่อมโยง\n",
    "วิธีที่จะสร้างกราฟวิธีหนึ่งคือการใช้เมตริกซ์ 2 มิติ ซึ่งแต่ละแถวและคอลัมน์แทนจุดยอดในกราฟ ค่าที่เก็บไว้ในแต่ละช่องของเมตริกซ์ที่แถว $v$ คอลัมน์ $w$ บ่งบอกถึงการมีเส้นเชื่อมหรือน้ำหนักระหว่างจุดยอด $v$ และ $w$ กราฟใน [รูปที่ 13-1](#figure_01) สามารถแทนด้วยเมตริกซ์ดัง [รูปที่ 13-3](#figure_03) (จาก [interactivepython](http://interactivepython.org/runestone/static/pythonds/Graphs/AnAdjacencyMatrix.html)) \n",
    "\n",
    "<a name=\"figure_03\"></a> \n",
    "![alt text](/files/imgs/adjMat.png)\n",
    "<center>รูปที่ 13-3 เมตริกซ์การเชื่อมโยง</center>\n",
    "\n",
    "ข้อดีของการแทนกราฟแบบนี้คือง่ายและสะดวกที่จะมองความสัมพันธ์ แต่ก็มีข้อเสียคือหากมีจำนวนจุดยอดเยอะๆ แต่เส้นเชื่อมน้อย จะมีพื้นที่ที่ไม่ได้ใช้เหลือในเมตริกซ์เป็นจำนวนมาก\n",
    "\n",
    "## 13.4 การแทนกราฟด้วยรายการเชื่อมโยง\n",
    "เป็นอีกหนึ่งวิธีในการแทนกราฟโดยที่ไม่เปลืองเนื้อที่ด้วยการใช้รายการเชื่อมโยง โดยแต่ละจุดยอดจะมีรายการเชื่อมโยง ที่ใช้เก็บจุดยอดที่มีเส้นเชื่อมถึงมัน ดังตัวอย่างใน [รูปที่ 13-4](#figure_04) (จาก [interactivepython](http://interactivepython.org/runestone/static/pythonds/Graphs/AnAdjacencyList.html)) \n",
    "\n",
    "<a name=\"figure_04\"></a> \n",
    "![alt text](/files/imgs/adjlist.png)\n",
    "<center>รูปที่ 13-4 รายการเชื่อมโยง</center>\n",
    "\n",
    "เราสร้างคลาส Graph และ Vertex โดยใช้ dict ของภาษาไพทอนในการสร้างรายการเชื่อมโยง โดยรหัสของ Vertex เป็นดังนี้"
   ]
  },
  {
   "cell_type": "code",
   "execution_count": 1,
   "metadata": {
    "collapsed": true
   },
   "outputs": [],
   "source": [
    "class Vertex:\n",
    "    def __init__(self,key):\n",
    "        self.id = key\n",
    "        self.connectedTo = {}\n",
    "\n",
    "    def addNeighbor(self,nbr,weight=0):\n",
    "        self.connectedTo[nbr] = weight\n",
    "\n",
    "    def __str__(self):\n",
    "        return str(self.id) + ' connectedTo: ' + str([x.id for x in self.connectedTo])\n",
    "\n",
    "    def getConnections(self):\n",
    "        return self.connectedTo.keys()\n",
    "\n",
    "    def getId(self):\n",
    "        return self.id\n",
    "\n",
    "    def getWeight(self,nbr):\n",
    "        return self.connectedTo[nbr]"
   ]
  },
  {
   "cell_type": "markdown",
   "metadata": {},
   "source": [
    "คลาส Vertex จะทำการเก็บข้อมูลที่เกียวกับจุดยอดทั้ง key และ connectedTo ซึ่งเป็น dict ที่ใช้เก็บความเชื่อมโยง addNeighbor เป็นเมธอดที่ทำหน้าที่เพิ่มความเชื่อมโยงระหว่างจุดยอดตัวมันเองกับจุดยอดอื่นๆ getConnections มีหน้าที่คืนค่าจุดยอดทั้งหมดที่เชื่อมโยงกับมันหรือพูดอีกอย่างว่าอยู่ในรายการความเชื่อมโยง getWeight คืนค่าน้ำหนักของเส้นเชื่อมระหว่างตัวมันกับจุดยอด nbr\n",
    "\n",
    "การสร้างคลาส Graph เป็นดังนี้"
   ]
  },
  {
   "cell_type": "code",
   "execution_count": 2,
   "metadata": {
    "collapsed": true
   },
   "outputs": [],
   "source": [
    "class Graph:\n",
    "    def __init__(self):\n",
    "        self.vertList = {}\n",
    "        self.numVertices = 0\n",
    "\n",
    "    def addVertex(self,key):\n",
    "        self.numVertices = self.numVertices + 1\n",
    "        newVertex = Vertex(key)\n",
    "        self.vertList[key] = newVertex\n",
    "        return newVertex\n",
    "\n",
    "    def getVertex(self,n):\n",
    "        if n in self.vertList:\n",
    "            return self.vertList[n]\n",
    "        else:\n",
    "            return None\n",
    "\n",
    "    def __contains__(self,n):\n",
    "        return n in self.vertList\n",
    "\n",
    "    def addEdge(self,f,t,cost=0):\n",
    "        if f not in self.vertList:\n",
    "            nv = self.addVertex(f)\n",
    "        if t not in self.vertList:\n",
    "            nv = self.addVertex(t)\n",
    "        self.vertList[f].addNeighbor(self.vertList[t], cost)\n",
    "\n",
    "    def getVertices(self):\n",
    "        return self.vertList.keys()\n",
    "\n",
    "    def __iter__(self):\n",
    "        return iter(self.vertList.values())"
   ]
  },
  {
   "cell_type": "markdown",
   "metadata": {},
   "source": [
    "vertList เป็น dict ที่ใช้เก็บจุดยอดในกราฟโดยมี value คือการอ้างอิง Vertex จะเห็นว่าไม่มีการเก็บเส้นเชื่อมในคลาสนี้เนื่องจากทำการเก็บไว้แล้วใน Vertex มีเมธอด addVertex และ getVertex เพื่อเพิ่มและดึงค่าจุดยอด getVertices จะคืนค่าทุกจุดยอดในกราฟ addEdge จะทำการสร้างเส้นเชื่อม โดยจะตรวจสอบก่อนว่า f กับ t มีอยู่ในกราฟหรือไม่ หากไม่มีจะทำการสร้างก่อนแล้วจึงนำ t เข้าไปเพิ่มความเชื่อมโยงในรายการเชื่อมโยงของ f ผ่าน addNeighbor และ \\_\\_iter\\_\\_ เป็นเมธอดที่ใช้ดึงจุดยอดทั้งหมดในกราฟหรือการอ้างอิงทุก Vertex ใน vertList โดยจะถูกเรียกใช้งานร่วมกับวงวน for\n",
    "\n",
    "ตัวอย่างการใช้งานเป็นดังนี้"
   ]
  },
  {
   "cell_type": "code",
   "execution_count": 3,
   "metadata": {},
   "outputs": [
    {
     "name": "stdout",
     "output_type": "stream",
     "text": [
      "( 0 , 1 )\n",
      "( 0 , 5 )\n",
      "( 1 , 2 )\n",
      "( 2 , 3 )\n",
      "( 3 , 4 )\n",
      "( 3 , 5 )\n",
      "( 4 , 0 )\n",
      "( 5 , 4 )\n",
      "( 5 , 2 )\n"
     ]
    }
   ],
   "source": [
    "g = Graph()\n",
    "for i in range(6):\n",
    "    g.addVertex(i)\n",
    "    \n",
    "g.addEdge(0,1,5)\n",
    "g.addEdge(0,5,2)\n",
    "g.addEdge(1,2,4)\n",
    "g.addEdge(2,3,9)\n",
    "g.addEdge(3,4,7)\n",
    "g.addEdge(3,5,3)\n",
    "g.addEdge(4,0,1)\n",
    "g.addEdge(5,4,8)\n",
    "g.addEdge(5,2,1)\n",
    "\n",
    "for v in g:\n",
    "    for w in v.getConnections():\n",
    "        print(\"( %s , %s )\" % (v.getId(), w.getId()))"
   ]
  },
  {
   "cell_type": "markdown",
   "metadata": {},
   "source": [
    "## 13.5 คำถามท้ายบท\n",
    "1. จาก [รูปที่ 13-5](#figure_05) (จาก [msdn](https://msdn.microsoft.com/en-us/library/ms379574.aspx)) จงอธิบายว่าเป็นกราฟชนิดใด เมตริกซ์การเชื่อมโยงและรายการเชื่อมโยงสำหรับกราฟนี้เป็นอย่างไร\n",
    "<a name=\"figure_05\"></a> \n",
    "![alt text](/files/imgs/ex01_graph.gif)\n",
    "<center>รูปที่ 13-5 กราสำหรับคำถามข้อที่ 1</center>\n",
    "<br>\n",
    "<br>\n",
    "<br>\n",
    "<br>\n",
    "2. จากเมตริกซ์การเชื่อมโยงใน [ตารางที่ 13-1](#table_01) จงวาดกราฟ\n",
    "<a name=\"table_01\"></a> \n",
    "<center>ตารางที่ 13-1 เมตริกซ์การเชื่อมโยงสำหรับคำถามข้อที่ 2</center>\n",
    "\n",
    "|   | A | B | C | D | E | F |\n",
    "|---|---|---|---|---|---|---|\n",
    "| **A** | 0 | 0 | 0 | 0 | 1 | 0 |\n",
    "| **B** | 1 | 0 | 0 | 0 | 1 | 0 |\n",
    "| **C** | 0 | 1 | 0 | 0 | 0 | 1 |\n",
    "| **D** | 0 | 0 | 1 | 0 | 0 | 0 |\n",
    "| **E** | 0 | 0 | 0 | 1 | 0 | 0 |\n",
    "| **F** | 0 | 0 | 0 | 1 | 0 | 0 |"
   ]
  }
 ],
 "metadata": {
  "kernelspec": {
   "display_name": "Python 3",
   "language": "python",
   "name": "python3"
  },
  "language_info": {
   "codemirror_mode": {
    "name": "ipython",
    "version": 3
   },
   "file_extension": ".py",
   "mimetype": "text/x-python",
   "name": "python",
   "nbconvert_exporter": "python",
   "pygments_lexer": "ipython3",
   "version": "3.6.5"
  }
 },
 "nbformat": 4,
 "nbformat_minor": 2
}
