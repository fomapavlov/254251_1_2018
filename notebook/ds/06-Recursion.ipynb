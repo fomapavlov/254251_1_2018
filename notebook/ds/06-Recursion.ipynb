{
 "cells": [
  {
   "cell_type": "markdown",
   "metadata": {},
   "source": [
    "# บทที่ 6 ความสัมพันธ์เวียนเกิด\n",
    "ก่อนที่จะกล่าวถึงโครงสร้างข้อมูลที่มีความซับซ้อนขึ้น ในบทนี้จะกล่าวถึงการเขียนโปรแกรมโดยใช้ความสัมพันธ์เวียนเกิด (recursion) ในการแก้ปัญหา ซึ่งอาจจะเข้าใจยากกว่าการเขียนโปรแกรมเชิงลำดับตามปกติ แต่หลายๆ ครั้งจะเขียนได้ง่ายกว่าหากเข้าใจความสัมพันธ์\n",
    "\n",
    "## 6.1 จุดประสงค์\n",
    "* เพื่อให้เข้าใจความหมายหลักการของความสัมพันธ์เวียนเกิด\n",
    "* เพื่อให้สามารถแปลงปัญหาให้อยู่ในรูปความสัมพันธ์เวียนเกิด\n",
    "* เพื่อให้เข้าใจถึงกฎ 3 ข้อ\n",
    "* เพื่อให้สามารถเขียนโปรแกรมที่ใช้ความสัมพันธ์เวียนเกิดในการแก้ปัญหาได้\n",
    "\n",
    "## 6.2 ความหมายของความสัมพันธ์เวียนเกิด\n",
    "ความสัมพันธ์เวียนเกิดคือวิธีแก้ปัญหาโดยการแก้ปัญหาที่ย่อยลงเรื่อยๆ จนย่อยที่สุดที่เราสามารถแก้ปัญหาได้ง่ายๆ หรือรู้คำตอบเลย ซึ่งโดยปกติแล้วความสัมพันธ์เวียนเกิดจะอยู่ในรูปของฟังก์ชันที่มีการเรียกตัวเองซ้อนๆ ซ้ำๆ ไปเรื่อยๆ โดยที่การเรียกฟังก์ชันตัวเองทุกครั้งปัญหาจะย่อยลง\n",
    "\n",
    "## 6.3 การคำนวณผลบวกของรายการ\n",
    "โจทย์คือเรารับข้อมูลขาเข้าเป็นรายการของตัวเลขผลลัพธ์คือผลบวกของตัวเลขทั้งหมด วิธีแก้ปัญหาง่ายสุดคือใช้คลาส list และวงวนบวกเพิ่มค่าไปเรื่อยๆ จนหมด list"
   ]
  },
  {
   "cell_type": "code",
   "execution_count": 1,
   "metadata": {
    "collapsed": false
   },
   "outputs": [
    {
     "name": "stdout",
     "output_type": "stream",
     "text": [
      "25\n"
     ]
    }
   ],
   "source": [
    "def listsum(numList):\n",
    "    theSum = 0\n",
    "    for i in numList:\n",
    "        theSum = theSum + i\n",
    "    return theSum\n",
    "\n",
    "print(listsum([1,3,5,7,9]))"
   ]
  },
  {
   "cell_type": "markdown",
   "metadata": {},
   "source": [
    "แต่หากเรามองปัญหาเป็นการแยกตัวเลข 1 ตัว เพื่อบวกเข้ากับผลบวกของสมาชิกที่เหลือใน list\n",
    "\n",
    "$total = 1 + sum([3,5,7,9])$ <br>\n",
    "$total = (1 + 3) + sum([5,7,9]) = 4 + sum([5,7,9])$ <br>\n",
    "$total = (4 + 5) + sum([7,9]) = 9 + sum([7,9])$ <br>\n",
    "$total = (9 + 7) + sum([9]) = 16 + sum([9])$ <br>\n",
    "$total = (16 + 9) + sum([]) = 25 + sum([])$ <br>\n",
    "\n",
    "จากตัวอย่างเราทำการดึงสมาชิกตัวแรกของ list ออกมาบวกเพิ่มกับผลบวกเดิมทุกรอบ และตั้งใจให้เห็นว่า ในกรณีที่ไม่เหลือสมาชิกใน list แล้วค่าผลรวมที่ได้คือ 0 เราจะลองแปลงเป็นรหัสดู"
   ]
  },
  {
   "cell_type": "code",
   "execution_count": 2,
   "metadata": {
    "collapsed": false
   },
   "outputs": [
    {
     "name": "stdout",
     "output_type": "stream",
     "text": [
      "25\n"
     ]
    }
   ],
   "source": [
    "def listsum(numList):\n",
    "   if len(numList) == 0:\n",
    "        return 0\n",
    "   else:\n",
    "        return numList[0] + listsum(numList[1:])\n",
    "\n",
    "print(listsum([1,3,5,7,9]))"
   ]
  },
  {
   "cell_type": "markdown",
   "metadata": {},
   "source": [
    "ให้ผู้พัฒนาพิจารณาการเรียกฟังก์ชันและการคืนค่าของฟังก์ชัน"
   ]
  },
  {
   "cell_type": "code",
   "execution_count": 3,
   "metadata": {
    "collapsed": false
   },
   "outputs": [
    {
     "data": {
      "text/html": [
       "\n",
       "        <iframe\n",
       "            width=\"1050\"\n",
       "            height=\"512\"\n",
       "            src=\"http://www.pythontutor.com/iframe-embed.html#code=def%20listsum%28numList%29%3A%0A%20%20%20if%20len%28numList%29%20%3D%3D%200%3A%0A%20%20%20%20%20%20%20%20return%200%0A%20%20%20else%3A%0A%20%20%20%20%20%20%20%20return%20numList%5B0%5D%20%2B%20listsum%28numList%5B1%3A%5D%29%0A%0Aprint%28listsum%28%5B1,3,5,7,9%5D%29%29&cumulative=false&curInstr=0&heapPrimitives=false&mode=display&origin=opt-frontend.js&py=3&rawInputLstJSON=%5B%5D&textReferences=false\"\n",
       "            frameborder=\"0\"\n",
       "            allowfullscreen\n",
       "        ></iframe>\n",
       "        "
      ],
      "text/plain": [
       "<IPython.lib.display.IFrame at 0x288f357ba58>"
      ]
     },
     "execution_count": 3,
     "metadata": {},
     "output_type": "execute_result"
    }
   ],
   "source": [
    "from IPython.display import IFrame\n",
    "url = 'http://www.pythontutor.com/iframe-embed.html#code=def%20listsum%28numList%29%3A%0A%20%20%20if%20len%28numList%29%20%3D%3D%200%3A%0A%20%20%20%20%20%20%20%20return%200%0A%20%20%20else%3A%0A%20%20%20%20%20%20%20%20return%20numList%5B0%5D%20%2B%20listsum%28numList%5B1%3A%5D%29%0A%0Aprint%28listsum%28%5B1,3,5,7,9%5D%29%29&cumulative=false&curInstr=0&heapPrimitives=false&mode=display&origin=opt-frontend.js&py=3&rawInputLstJSON=%5B%5D&textReferences=false'\n",
    "IFrame(url, width=1050, height=512)"
   ]
  },
  {
   "cell_type": "markdown",
   "metadata": {},
   "source": [
    "ตั้งแต่ขั้นที่ 1 - 17 จะเป็นการเอาข้อมูลตัวแรกของ list ออกมาบวก แล้วเรียกฟังก์ชันเดิมต่อด้วย list ที่เล็กลง จนถึงกรณีที่ list เป็น [] หรือมีขนาดเป็น 0 จึงเริ่มคืนค่า 0 ออกมาเพื่อบวกกลับเข้ากับตัวก่อนหน้าที่ถูกนำออกมาจาก list ไปเรื่อยๆ จนคืนค่าหมด ได้ผลบวกทั้งหมดคือผลลัพธ์\n",
    "\n",
    "<br>\n",
    "## 6.4 กฎ 3 ข้อ\n",
    "เราจะยึดกฎง่ายๆ ในการแปลงปัญหาให้อยู่ในรูปของความสัมพันธ์เวียนเกิด\n",
    "\n",
    "1. ต้องมีกรณีฐาน\n",
    "2. ต้องมีการเปลี่ยนสถานะของปัญหาให้เข้าใกล้กรณีฐาน โดยปกติแล้วจะเป็นการลดปัญหาลงเรื่อยๆ\n",
    "3. ต้องเรียกฟังก์ชันตัวเอง\n",
    "\n",
    "ให้ลองพิจารณาเป็นข้อๆ จากปัญหาด้านบน\n",
    "\n",
    "1. กรณีฐานคือ list ว่างให้คืนค่า 0\n",
    "2. การเปลี่ยนสถานะคือ นำตัวหน้าสุดของ list เพื่อมารอบวกกับผลรวมของ list ที่เหลือ\n",
    "3. หาผลบวกของ list ที่เหลือ\n",
    "\n",
    "## 6.5 ปัญหาการแปลงเลขฐาน\n",
    "ในกรณีนี้จะเปลี่ยนไปคือแปลงเป็นสายอักขระแทนที่จะเป็นตัวเลข หลักการจะเหมือนเดิมคือหารเพื่อเอาเศษไปเรื่อยๆ แล้วผลหารจะถูกนำมาใช้ในการหารต่อ ซึ่งจะเห็นว่าการหารลดลงเรื่อยๆ เพื่อพุ่งไปหาผลหารสุดท้ายที่มีค่าน้อยกว่าฐาน ด้วยการอธิบายนี้เราได้กฎทั้ง 3 ข้อครบแล้ว ลองมาเรียบเรียงกัน\n",
    "\n",
    "1. กรณีฐานคือตัวที่นำมาหารมีค่าน้อยกว่าฐาน\n",
    "2. การเปลี่ยนสถานะคือ นำผลหารที่ได้ไปหารต่อเพื่อเอาเศษ\n",
    "3. หาเศษของผลหารที่ได้จากข้อ 2\n",
    "\n",
    "รายละเอียดที่เหลือของการเขียนโปรแกรมมีแค่การแปลงจากตัวเลขผลหารเป็น str ซึ่งสามารถใช้ str() ได้ แต่ว่าในกรณีที่เป็นฐานที่มากกว่า 10 จะมีความซับซ้อนขึ้น แต่เราสามารถใช้ str แล้วหยิบเป็นดัชนีตามค่าได้"
   ]
  },
  {
   "cell_type": "code",
   "execution_count": 4,
   "metadata": {
    "collapsed": false
   },
   "outputs": [
    {
     "name": "stdout",
     "output_type": "stream",
     "text": [
      "A\n"
     ]
    }
   ],
   "source": [
    "convertString = \"0123456789ABCDEF\"\n",
    "print(convertString[10])"
   ]
  },
  {
   "cell_type": "markdown",
   "metadata": {},
   "source": [
    "และด้วยการใช้ str ทำให้เราสามารถต่อผลลัพธ์ได้ง่ายๆ โดย เศษที่ได้ก่อนจะต่อท้ายสุด ดัง [รูปที่ 6-1](#figure_01) (จาก [interactivepython](http://interactivepython.org/runestone/static/pythonds/BasicDS/ImplementinganUnorderedListLinkedLists.html))\n",
    "\n",
    "<a name=\"figure_01\"></a> \n",
    "![alt text](/files/imgs/toStr.png)\n",
    "<center>รูปที่ 6-1 การต่อ str ด้วยตัวดำเนินการ +</center>\n",
    "\n",
    "เขียนเป็นรหัสได้ดังนี้"
   ]
  },
  {
   "cell_type": "code",
   "execution_count": 5,
   "metadata": {
    "collapsed": false
   },
   "outputs": [
    {
     "name": "stdout",
     "output_type": "stream",
     "text": [
      "5AD\n"
     ]
    }
   ],
   "source": [
    "def toStr(n,base):\n",
    "   convertString = \"0123456789ABCDEF\"\n",
    "   if n < base:\n",
    "      return convertString[n]\n",
    "   else:\n",
    "      return toStr(n//base,base) + convertString[n%base]\n",
    "\n",
    "print(toStr(1453,16))"
   ]
  },
  {
   "cell_type": "markdown",
   "metadata": {},
   "source": [
    "โดยมีกรณีฐานคือบรรทัดที่ 3-4 การเปลียนสถานะโดยการลดตัวหารคือบรรทัดที่ 6 และการเรียกฟังก์ชันตัวเองก็อยู่บรรทัดที่ 6 เช่นกัน\n",
    "\n",
    "## 6.6 ปัญหาแฟกทอเรียล\n",
    "แฟกทอเรียล (factorial) เป็นการหาผลคูณสะสมของตัวเลข กำหนดให้รับข้อมูลขาเข้าคือ $n$ เป็นเลขจำนวนเต็ม $factorial(n) = n \\times n-1 \\times n-2 \\times ... \\times 1$ วิธีหาผลลัพธ์จะคล้ายกับการหาผลบวกของ list โดยเราสามารถมองได้ว่ามีเลขตั้งแต่ $n, n-1, n-2,...,1$ แล้วหาผลคูณรวมทั้งหมด\n",
    "\n",
    "#### คำถาม\n",
    "จงเขียนกฎ 3 ข้อสำหรับปัญหาแฟกทอเรียลและเขียนโปรแกรม"
   ]
  },
  {
   "cell_type": "code",
   "execution_count": 6,
   "metadata": {
    "collapsed": true
   },
   "outputs": [],
   "source": [
    "# try here"
   ]
  },
  {
   "cell_type": "markdown",
   "metadata": {},
   "source": [
    "## 6.7 ลำดับฟิโบนักชี\n",
    "เป็นลำดับของจำนวนจำนวนที่เกิดจากการบวกลำดับย่อยฟิโบนักชี โดยมีสูตรการคำนวณค่าในลำดับที่ $n$ ดังนี้ $F(n) = F(n-1) + F(n-2)$ โดยที่ $F(0) = 0$ และ $F(1) = 1$ เมื่อเราลองคำนวณไล่ไปเรื่อยๆ ตั้งแต่ $n = 0$ เป็นต้นไปจะได้ค่า 0,1,1,2,3,5,8,13,21 ไปเรื่อยๆ\n",
    "\n",
    "โดยปกติแล้วปัญหานี้ตั้งใจที่จะให้หาลำดับฟิโบนักชีโดยกำหนด $n$ มาให้ แต่ในที่นี้เราจะมองปัญหาให้ง่ายลงโดยมองว่าเราจะหาค่าฟิโบนักชีเฉพาะที่ลำดับที่ $n$ ซึ่งการเขียนกฎ 3 ข้อนั้นก็ตรงไปตรงมา\n",
    "\n",
    "1. กรณีฐานคือ $F(0) = 0$ และ $F(1) = 1$\n",
    "2. การเปลี่ยนสถานะคือ การแก้ปัญหาที่ $n$ มีค่าเล็กลง $n-1$ และ $n-2$\n",
    "3. การเรียกตัวเองคือ $F(n-1)$ และ $F(n-2)$\n",
    "\n",
    "ส่วนของหัสเป็นดังนี้"
   ]
  },
  {
   "cell_type": "code",
   "execution_count": 7,
   "metadata": {
    "collapsed": false
   },
   "outputs": [
    {
     "name": "stdout",
     "output_type": "stream",
     "text": [
      "8\n"
     ]
    }
   ],
   "source": [
    "def fibo(n):\n",
    "    if n <= 1 :\n",
    "        return n\n",
    "    else:\n",
    "        return fibo(n-1) + fibo(n-2)\n",
    "    \n",
    "print(fibo(6))"
   ]
  },
  {
   "cell_type": "markdown",
   "metadata": {
    "collapsed": true
   },
   "source": [
    "## 6.8 คำถามท้ายบท\n",
    "1. จงเขียนกฎ 3 ข้อสำหรับปัญหาแฟกทอเรียลและเขียนโปรแกรม\n",
    "2. จงแก้ปัญหาการหาค่าหารร่วมมากของเลขจำนวนเต็ม 2 จำนวนด้วยความสัมพันธ์เวียนเกิด"
   ]
  }
 ],
 "metadata": {
  "kernelspec": {
   "display_name": "Python 3",
   "language": "python",
   "name": "python3"
  },
  "language_info": {
   "codemirror_mode": {
    "name": "ipython",
    "version": 3
   },
   "file_extension": ".py",
   "mimetype": "text/x-python",
   "name": "python",
   "nbconvert_exporter": "python",
   "pygments_lexer": "ipython3",
   "version": "3.6.0"
  }
 },
 "nbformat": 4,
 "nbformat_minor": 2
}
