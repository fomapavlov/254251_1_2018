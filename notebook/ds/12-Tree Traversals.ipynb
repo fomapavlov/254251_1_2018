{
 "cells": [
  {
   "cell_type": "markdown",
   "metadata": {},
   "source": [
    "# บทที่ 12 การท่องต้นไม้\n",
    "จากที่ผ่านมาเราได้ทำการค้นหาในต้นไม้มาแล้วซึ่งยังไม่ได้ข้อมูลที่ทุกปมของต้นไม้ ในบทนี้เราจะเรียนรู้ถึงการท่องต้นไม้ (tree traversal) เพื่อเข้าถึงทุกปมของต้นไม้ ซึ่งก็จะมีลำดับการเข้าถึงปมที่ต่างๆ กันออกไป โดยมีอยู่ 3 แบบการเข้าถึงคือ\n",
    "* พรีออเดอร์ (preorder)\n",
    "* โพสต์ออเดอร์ (postorder)\n",
    "* อินออเดอร์ (inorder)\n",
    "\n",
    "## 12.1 จุดประสงค์\n",
    "* เพื่อให้เข้าใจถึงการท่องต้นไม้ในแบบต่างๆ\n",
    "\n",
    "## 12.2 การท่องต้นไม้แบบพรีออเดอร์ \n",
    "เป็นการท่องต้นไม้โดยเริ่มจากรากก่อนแล้วจึงท่องด้วยความสัมพันธ์แบบเวียนเกิดไปยังต้นไม้ย่อยซ้าย ตามด้วยการท่องด้วยความสัมพันธ์แบบเวียนเกิดไปยังต้นไม้ย่อยทางขวา เราสามารถเขียนฟังก์ชันเพื่อรับรากของต้นไม้ในการท่องได้ดังนี้"
   ]
  },
  {
   "cell_type": "code",
   "execution_count": 1,
   "metadata": {
    "collapsed": true
   },
   "outputs": [],
   "source": [
    "class BinaryTree:\n",
    "    def __init__(self,rootObj):\n",
    "        self.key = rootObj\n",
    "        self.leftChild = None\n",
    "        self.rightChild = None\n",
    "\n",
    "    def insertLeft(self,newNode):\n",
    "        if self.leftChild == None:\n",
    "            self.leftChild = BinaryTree(newNode)\n",
    "        else:\n",
    "            t = BinaryTree(newNode)\n",
    "            t.leftChild = self.leftChild\n",
    "            self.leftChild = t\n",
    "\n",
    "    def insertRight(self,newNode):\n",
    "        if self.rightChild == None:\n",
    "            self.rightChild = BinaryTree(newNode)\n",
    "        else:\n",
    "            t = BinaryTree(newNode)\n",
    "            t.rightChild = self.rightChild\n",
    "            self.rightChild = t\n",
    "\n",
    "\n",
    "    def getRightChild(self):\n",
    "        return self.rightChild\n",
    "\n",
    "    def getLeftChild(self):\n",
    "        return self.leftChild\n",
    "\n",
    "    def setRootVal(self,obj):\n",
    "        self.key = obj\n",
    "\n",
    "    def getRootVal(self):\n",
    "        return self.key\n",
    "    \n",
    "Book = BinaryTree('Book')\n",
    "Book.insertLeft('Chapter1')\n",
    "Book.insertRight('Chapter2')\n",
    "Book.leftChild.insertLeft('Section 1.1')\n",
    "Book.leftChild.insertRight('Section 1.2')\n",
    "Book.rightChild.insertLeft('Section 2.1')\n",
    "Book.rightChild.insertRight('Section 2.2')\n",
    "Book.leftChild.rightChild.insertLeft('Section 1.2.1')\n",
    "Book.leftChild.rightChild.insertRight('Section 1.2.2')\n",
    "Book.rightChild.rightChild.insertLeft('Section 2.2.1')\n",
    "Book.rightChild.rightChild.insertRight('Section 2.2.2')"
   ]
  },
  {
   "cell_type": "code",
   "execution_count": 2,
   "metadata": {
    "collapsed": false
   },
   "outputs": [
    {
     "name": "stdout",
     "output_type": "stream",
     "text": [
      "Book\n",
      "Chapter1\n",
      "Section 1.1\n",
      "Section 1.2\n",
      "Section 1.2.1\n",
      "Section 1.2.2\n",
      "Chapter2\n",
      "Section 2.1\n",
      "Section 2.2\n",
      "Section 2.2.1\n",
      "Section 2.2.2\n"
     ]
    }
   ],
   "source": [
    "def preorder(tree):\n",
    "    if tree:\n",
    "        print(tree.getRootVal())\n",
    "        preorder(tree.getLeftChild())\n",
    "        preorder(tree.getRightChild())\n",
    "\n",
    "preorder(Book)"
   ]
  },
  {
   "cell_type": "markdown",
   "metadata": {},
   "source": [
    "รหัสด้านบนแสดงตัวอย่างต้นไม้ใน [รูปที่ 12-1](#figure_01) (จาก [interactivepython](http://interactivepython.org/runestone/static/pythonds/Trees/TreeTraversals.html)) ซึ่งการท่องแบบพรีออเดอร์จะเริ่มที่รากคือ Book แล้วจึงเรียกความสัมพันธ์เวียนเกิดไปยังต้นไม้ย่อยซ้าย Chapter1 ตามด้วยการเรียกความสัมพันธ์เวียนเกิดไปยังต้นไม้ย่อยซ้าย Section 1.1 แต่ Section 1.1 ไม่มีต้นไม้ย่อยซ้ายแล้วย้อนไปเรียกความสัมพันธ์เวียนเกิดไปยังต้นไม้ย่อยขวาของ Chapter1 คือ Section 1.2 เรียกความสัมพันธ์เวียนเกิดไปยังต้นไม้ย่อยซ้าย Section 1.2.1 ไม่มีต้นไม้ย่อยซ้ายแล้วย้อนกลับไปเรียกความสัมพันธ์เวียนเกิดไปยังต้นไม้ย่อยขวาของ Section 1.2 คือ Section 1.2.2 ไม่มีต้นไม้ย่อยซ้ายและต้นไม้ย่อยขวาจึงย้อนกลับไปเรื่อยๆ จนถึง Book แล้วเรียกความสัมพันธ์เวียนเกิดไปยังต้นไม้ย่อยขวา Chapter2 ต่อ เป็นแบบนี้ไปเรื่อยๆ\n",
    "\n",
    "<a name=\"figure_01\"></a> \n",
    "![alt text](/files/imgs/booktree.png)\n",
    "<center>รูปที่ 12-1 ตัวอย่างต้นไม้</center>\n",
    "\n",
    "## 12.3 การท่องต้นไม้แบบโพสต์ออเดอร์ \n",
    "เป็นการท่องต้นไม้โดยเริ่มจากการเรียกความสัมพันธ์เวียนเกิดไปยังต้นไม้ย่อยซ้าย ตามด้วยการเรียกความสัมพันธ์เวียนเกิดไปยังต้นไม้ย่อยขวา แล้วจบด้วยการเข้าถึงข้อมูลที่ราก"
   ]
  },
  {
   "cell_type": "code",
   "execution_count": 3,
   "metadata": {
    "collapsed": false
   },
   "outputs": [
    {
     "name": "stdout",
     "output_type": "stream",
     "text": [
      "Section 1.1\n",
      "Section 1.2.1\n",
      "Section 1.2.2\n",
      "Section 1.2\n",
      "Chapter1\n",
      "Section 2.1\n",
      "Section 2.2.1\n",
      "Section 2.2.2\n",
      "Section 2.2\n",
      "Chapter2\n",
      "Book\n"
     ]
    }
   ],
   "source": [
    "def postorder(tree):\n",
    "    if tree != None:\n",
    "        postorder(tree.getLeftChild())\n",
    "        postorder(tree.getRightChild())\n",
    "        print(tree.getRootVal())\n",
    "\n",
    "postorder(Book)"
   ]
  },
  {
   "cell_type": "markdown",
   "metadata": {},
   "source": [
    "## 12.4  การท่องต้นไม้แบบอินออเดอร์\n",
    "เป็นการท่องต้นไม้โดยเริ่มจากการเรียกความสัมพันธ์เวียนเกิดไปยังต้นไม้ย่อยซ้าย ตามด้วยการเข้าถึงข้อมูลที่ราก แล้วจบด้วยการเรียกความสัมพันธ์เวียนเกิดไปยังต้นไม้ย่อยขวา"
   ]
  },
  {
   "cell_type": "code",
   "execution_count": 4,
   "metadata": {
    "collapsed": false
   },
   "outputs": [
    {
     "name": "stdout",
     "output_type": "stream",
     "text": [
      "Section 1.1\n",
      "Chapter1\n",
      "Section 1.2.1\n",
      "Section 1.2\n",
      "Section 1.2.2\n",
      "Book\n",
      "Section 2.1\n",
      "Chapter2\n",
      "Section 2.2.1\n",
      "Section 2.2\n",
      "Section 2.2.2\n"
     ]
    }
   ],
   "source": [
    "def inorder(tree):\n",
    "  if tree != None:\n",
    "      inorder(tree.getLeftChild())\n",
    "      print(tree.getRootVal())\n",
    "      inorder(tree.getRightChild())\n",
    "\n",
    "inorder(Book)"
   ]
  },
  {
   "cell_type": "markdown",
   "metadata": {},
   "source": [
    "##  12.5 คำถามท้ายบท\n",
    "1. จาก [รูปที่ 12-2](#figure_05) (จาก [เวบไซต์](https://jonathanmcdevitt.wordpress.com/programming-data-structures-and-algorithm-complexity-binary-search-trees-pt-2-the-binary-tree/)) จงสร้างต้นไม้แล้วแสดงผลการท่องต้นไม้แบบต่างๆ\n",
    "\n",
    "<a name=\"figure_02\"></a> \n",
    "![alt text](/files/imgs/ex01_traversal.jpg)\n",
    "<center>รูปที่ 12-2 ต้นไม้สำหรับคำถามข้อที่ 1</center>"
   ]
  }
 ],
 "metadata": {
  "kernelspec": {
   "display_name": "Python 3",
   "language": "python",
   "name": "python3"
  },
  "language_info": {
   "codemirror_mode": {
    "name": "ipython",
    "version": 3
   },
   "file_extension": ".py",
   "mimetype": "text/x-python",
   "name": "python",
   "nbconvert_exporter": "python",
   "pygments_lexer": "ipython3",
   "version": "3.6.0"
  }
 },
 "nbformat": 4,
 "nbformat_minor": 2
}
