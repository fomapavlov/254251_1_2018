{
 "cells": [
  {
   "cell_type": "markdown",
   "metadata": {},
   "source": [
    "# บทที่ 5 โครงสร้างข้อมูลพื้นฐาน\n",
    "ในหัวข้อนี้จะเริ่มเข้าสู่การสร้างโครงสร้างข้อมูลพื้นฐาน โดยจะเริ่มจากการมองในมุมของแบบชนิดข้อมูลนามธรรมแล้วจึงลงไปสู่การเขียนโปรแกรม ซึ่งโครงสร้างข้อมูลอย่างง่ายที่เราจะสนใจในบทนี้คือ แถวซ้อน (stack) แถวคอย (queue) และรายการ (list)\n",
    "\n",
    "## 5.1 จุดประสงค์\n",
    "* เพื่อให้เข้าใจแบบชนิดข้อมูลนามธรรมสำหรับแถวซ้อน แถวคอยและรายการ\n",
    "* เพื่อให้สามารถเขียนรหัสสำหรับคลาส stack และ queue โดยใช้ list ของภาษาไพทอน\n",
    "* เพื่อให้สามารถประยุกต์ใช้คลาส stack และ queue ในการแก้ปัญหาได้\n",
    "* เพื่อให้เข้าใจรายการแบบเชื่อมโยง (linked list) โดยการสร้างขึ้นเอง\n",
    "\n",
    "## 5.2 โครงสร้างเชิงเส้น (linear structure)\n",
    "เป็นโครงสร้างข้อมูลที่มีลำดับขึ้นอยู่กับวิธีการเพิ่มและลบข้อมูล ข้อมูลที่เพิ่มเข้ามาก่อนหรือเพิ่มเข้ามาทีหลังล้วนมีความสัมพันธ์ หรือเราอาจจะมองอีกมุมหนึ่งคือการมีหัวมีท้าย มีซ้ายมาขวา มีหน้ามีหลัง หรือมีบนมีล่าง\n",
    "\n",
    "## 5.3 แถวซ้อน (stack)\n",
    "เป็นโครงสร้างข้อมูลแบบมีลำดับที่จะมีการเพิ่มและเอาออกข้อมูลเฉพาะส่วนหัวหรือข้อมูลล่าสุดเท่านั้น กล่าวคือข้อมูลที่เพิ่มเข้ามาล่าสุดจะถูกเอาออกเป็นลำดับแรก ภาษาอังกฤษที่อธิบายถึงพฤติกรรมนี้คือ last-in first-out หรือ LIFO ยกตัวอย่างเช่น การวางถาดซ้อนๆ กัน เวลาเราซ้อนเราจะซ้อนบนไปเรื่อยๆ และเราจะสามารถเอาถาดออกได้เป็นลำดับจากบนไปล่าง ประโยชน์ใช้สอยที่ตรงไปตรงมาคือใช้แถวซ้อนเพื่อกลับลำดับ ดัง [รูปที่ 5-1](#figure_01) (จาก [interactivepython](http://interactivepython.org/runestone/static/pythonds/BasicDS/WhatisaStack.html))\n",
    "\n",
    "<a name=\"figure_01\"></a> \n",
    "![alt text](/files/imgs/simplereversal.png)\n",
    "<center>รูปที่ 5-1 แถวซ้อน</center>\n",
    "\n",
    "วิธีการมองคือให้เรามองข้อมูลขาเข้าตามลำดับ จะได้ว่าลำดับคือ [4, \"dog\", True, 8.4] แต่เมื่อทำการเอาข้อมูลออกลำดับที่ได้คือ [8.4, True, \"dog\", 4]\n",
    "\n",
    "ตัวอย่างการใช้งานอื่นๆ เช่น ประวัติการใช้งานของโปรแกรมต่างๆ ที่สามารถให้ยกเลิกการทำงานล่าสุดได้ (undo) หรือบราวเซอร์ที่เราสามารถกดย้อนกลับไปหน้าที่เคยผ่านมาได้\n",
    "\n",
    "\n",
    "### 5.3.1 แบบชนิดข้อมูลนามธรรมของแถวซ้อน\n",
    "โดยตั้งชื่อคลาสว่า stack และเริ่มจากการพิจารณาคุณสมบัติของ stack ว่าควรจะมีการกระทำอะไรบ้างที่อธิบายคุณสมบัตินั้นๆ \n",
    "* สร้าง stack เปล่าๆ ที่ยังไม่มีสมาชิกเลย\n",
    "* เพิ่มข้อมูลใหม่เข้าไปที่ด้านบนของ stack\n",
    "* นำข้อมูลด้านบนของ stack ออกจาก stack\n",
    "* ขอดูข้อมูลด้านบนของ stack โดยไม่เอาข้อมูลออก\n",
    "<br>นอกจากนี้โดยปกติแล้วโครงสร้างข้อมูลมักจะมีเมธอดเสริม คือ\n",
    "* ถามว่า stack ว่างหรือไม่\n",
    "* ขนาดของ stack\n",
    "\n",
    "เมื่อเราได้การกระทำแล้ว ต่อไปคือการออกแบบเมธอดให้สอดคล้อง\n",
    "\n",
    "* stack() คืนค่า stack เปล่าๆ\n",
    "* push(item) เพิ่มข้อมูล item เข้าไปที่ด้านบนของ stack\n",
    "* pop() นำข้อมูลด้านบนของ stack ออกมาแล้วคืนค่าข้อมูลที่ได้มาด้วย\n",
    "* peek() คืนค่าข้อมูลด้านบนของ stack\n",
    "* isEmpty() คืนค่าตรรกะที่บอกว่า stack ว่างหรือไม่\n",
    "* size() คืนค่า int ที่บอกว่า stack มีจำนวนสมาชิกเท่าไร\n",
    "\n",
    "ความคาดหวังของการใช้งานดัง [ตารางที่ 5-1](#table_01) และตัวอย่างการใช้งานดัง [ตารางที่ 5-2](#table_02) \n",
    "\n",
    "<a name=\"table_01\"></a>\n",
    "<center>ตารางที่ 5-1 เมธอดของคลาส stack</center>\n",
    "\n",
    "| ชื่อเมธอด| การใช้งาน             | คำอธิบาย                                |\n",
    "|-----------|----------------------|----------------------------------------|\n",
    "| append    | alist.append(item)   | เพิ่ม item ต่อข้างท้ายของ alist             |\n",
    "| insert    | alist.insert(i,item) | ใส่ item เข้าไปที่ตำแหน่งที่ i ของ alist      |\n",
    "| pop       | alist.pop()          | ดึงข้อมูลตัวสุดท้ายของ alist ออกมาพร้อมทั้งคืนค่า |\n",
    "| pop       | alist.pop(i)         | ดึงข้อมูลตัวที่ i ของ alist ออกมาพร้อมทั้งคืนค่า  |\n",
    "| sort      | alist.sort()         | แก้ไข alist ให้เรียงลำดับ                  |\n",
    "| reverse   | alist.reverse()      | แก้ไข alist ให้กลับลำดับ                   |\n",
    "| del       | del alist[i]         | ลบข้อมูลตัวที่ i                            |\n",
    "| index     | alist.index(item)    | คืนค่าดัชนีแรกที่ค้นเจอ item                  |\n",
    "| count     | alist.count(item)    | นับจำนวน item ที่เจอใน alist              |\n",
    "| remove    | alist.remove(item)   | ลบข้อมูล item ที่เจอตัวแรกใน alist          |\n",
    "\n",
    "<a name=\"table_02\"></a>\n",
    "<center>ตารางที่ 5-2 ตัวอย่างการใช้งานคลาส stack</center>\n",
    "\n",
    "| การเรียกใช้เมธอด| ข้อมูลใน stack      | การคืนค่า |\n",
    "|-----------------|--------------------|--------------|\n",
    "| s = stack()     | []                 | stack           |\n",
    "| s.isEmpty()     | []                 | True         |\n",
    "| s.push(4)       | [4]                |              |\n",
    "| s.push('dog')   | [4,'dog']          |              |\n",
    "| s.peek()        | [4,'dog']          | 'dog'        |\n",
    "| s.push(True)    | [4,'dog',True]     |              |\n",
    "| s.size()        | [4,'dog',True]     | 3            |\n",
    "| s.isEmpty()     | [4,'dog',True]     | False        |\n",
    "| s.push(8.4)     | [4,'dog',True,8.4] |              |\n",
    "| s.pop()         | [4,'dog',True]     | 8.4          |\n",
    "| s.pop()         | [4,'dog']          | True         |\n",
    "| s.size()        | [4,'dog']          | 2            |\n",
    "\n",
    "### 5.3.2 การสร้างคลาส stack\n",
    "การเขียนรหัสเพื่อสร้างรูปแบบข้อมูลใหม่เราจะยึดหลักการของการเขียนโปรแกรมเชิงวัตถุคือสร้างคลาสใหม่ซึ่งจะประกอบด้วยเมธอดต่างๆ ที่ได้อธิบายไว้ข้างต้น โดยเราจะใช้ list เป็นโครงสร้างข้อมูลหลักในการสร้าง stack ให้ผู้พัฒนาย้อนกลับไปดูที่ [ตารางที่ 2-3](02-Basic%20Python.ipynb#table_03) ในบทที่ 2 แล้วลองพิจารณาว่าเมธอดใดของ list จะมามีความสัมพันธ์กับเมธอดใดของ stack บ้าง\n",
    "\n",
    "แต่ก่อนอื่นให้พิจารณาถึงลำดับของโครงสร้างข้อมูลทั้งสองก่อน สำหรับ list เรามองเป็น ซ้าย-ขวา หรือ หัว-ท้าย ขอให้มองแบบเดียวคือ หัว-ท้าย เช่น [2,5,3,6,7,4] มี 2 เป็นหัวและมี 4 เป็นท้าย และเมื่อเราต้องการใช้ list มาสร้าง stack เราควรจะต้องมองในรูปแบบเดียวกันคือมี หัว-ท้าย หรือ ล่าง-บน ในกรณีของ list และ stack เราสามารถมองให้ตรงกันพอดีคือ หัวของ list ก็คือ ล่างของ stack หรือข้อมูลตัวแรกที่ใส่เข้าไป และ ท้ายของ list ก็คือ บนของ stack และเมื่อมองที่เมธอดของ list เราก็จะพบว่า \n",
    "* append เป็นเมธอดของ list ที่จะต่อท้ายข้อมูลเข้าไปใน list หรือตัวบนสุดของ stack\n",
    "* pop เป็นเมธอดของ list ที่จะนำข้อมูลล่าสุดที่อยู่ใน list หรือตัวบนสุดของ stack ออกมา\n",
    "\n",
    "ดังนั้นการเขียนรหัสของ stack จึงดูเหมือนห่อและเรียกการใช้งานเมธอดของ list แบบตรงไปตรงมา"
   ]
  },
  {
   "cell_type": "code",
   "execution_count": 1,
   "metadata": {
    "collapsed": true
   },
   "outputs": [],
   "source": [
    "class stack:\n",
    "     def __init__(self):\n",
    "         self.items = []\n",
    "\n",
    "     def isEmpty(self):\n",
    "         return self.items == []\n",
    "\n",
    "     def push(self, item):\n",
    "         self.items.append(item)\n",
    "\n",
    "     def pop(self):\n",
    "         return self.items.pop()\n",
    "\n",
    "     def peek(self):\n",
    "         return self.items[len(self.items)-1]\n",
    "\n",
    "     def size(self):\n",
    "         return len(self.items)"
   ]
  },
  {
   "cell_type": "markdown",
   "metadata": {},
   "source": [
    "จะขออธิบายรหัสเป็นบรรทัดๆ แต่บรรทัดใดไม่ได้เสริมความเข้าใจจะขอข้าม\n",
    "\n",
    "บรรทัดที่ 1 เป็นการกำหนดชื่อคลาส<br>\n",
    "บรรทัดที่ 2 เป็นการกำหนดคอนสตรัคเตอร์ซึ่งอย่าลืมว่าหากเป็นเมธอดสำหรับคลาสต้องรับพารามิเตอร์เป็น self เสมอ ซึ่งในกรณีนี้เวลาเรียกใช้จะเหมือนว่าไม่รับพารามิเตอร์เช่น s = stack() <br>\n",
    "บรรทัดที่ 3 เป็นการสร้างตัวแปร items สำหรับคลาสโดยสร้างให้เป็น [] หรือ list ว่าง <br>\n",
    "บรรทัดที่ 6 ทำการตรวจสอบว่า items เป็น list ว่างหรือไม่ แล้วจึงคืนค่าด้วย return <br>\n",
    "บรรทัดที่ 8 เป็นการสร้างเมธอด push ซึ่งรับพารามิเตอร์คือ item <br>\n",
    "บรรทัดที่ 9 เป็นการเรียกเมธอด append ของ list ที่ชื่อ items เพื่อนำ item ไปต่อท้ายใน items <br>\n",
    "บรรทัดที่ 15 เป็นการเข้าถึงข้อมูลด้วยดัชนี โดยดัชนีที่เข้าถึงคือตัวท้ายสุดของ items แต่การที่เราจะรู้ตำแหน่งสุดท้ายของ items ได้นั้น เราจะต้องหาความยาวหรือจำนวนข้อมูลใน items ก่อน ด้วยการเรียกฟังก์ชันlen(self.items) แต่ถ้าใช้ len(self.items) เป็นดัชนีเลยจะผิดแน่นอนเพราะดัชนีของภาษาไพทอนเริ่มที่ 0 แล้วสิ้นสุดที่จำนวนข้อมูลลบด้วย 1 ดังนั้นดัชนีที่ต้องการเข้าถึงคือ len(self.items) - 1\n",
    "\n",
    "ตัวอย่างการใช้งาน"
   ]
  },
  {
   "cell_type": "code",
   "execution_count": 2,
   "metadata": {
    "collapsed": false
   },
   "outputs": [
    {
     "name": "stdout",
     "output_type": "stream",
     "text": [
      "True\n",
      "dog\n",
      "3\n",
      "False\n",
      "8.4\n",
      "True\n",
      "2\n"
     ]
    }
   ],
   "source": [
    "s=stack()\n",
    "\n",
    "print(s.isEmpty())\n",
    "s.push(4)\n",
    "s.push('dog')\n",
    "print(s.peek())\n",
    "s.push(True)\n",
    "print(s.size())\n",
    "print(s.isEmpty())\n",
    "s.push(8.4)\n",
    "print(s.pop())\n",
    "print(s.pop())\n",
    "print(s.size())"
   ]
  },
  {
   "cell_type": "markdown",
   "metadata": {},
   "source": [
    "### 5.3.3 การตรวจสอบวงเล็บ\n",
    "ปัญหาการตรวจสอบวงเล็บเป็นการตรวจสอบคู่ของวงเล็บเปิด ( และวงเล็บปิด ) ว่าเข้าคู่และไม่มีความขัดแย้งหรือไม่ ซึ่งเรามักจะเจอการใช้วงเล็บกับการคำนวณและการเรียกฟังก์ชันในการเขียนโปรแกรม เช่น \n",
    "\n",
    "$(5+6)∗(7+8)/(4+3)(5+6)∗(7+8)/(4+3)$ \n",
    "\n",
    "หรือ การเขียนภาษาลิปส์ (lisp) \n",
    "\n",
    "(defun square(n)(\\* n n)) \n",
    "\n",
    "ไม่ว่าจะเป็นการใช้งานวงเล็บเพื่อจุดประสงค์ใดก็ตาม วงเล็บนั้นจะต้องมีคู่เปิดปิดที่เหมาะสมหรือเรียกอีกแบบว่า สมดุล หลังจากนี้เราจะสนใจเฉพาะวงเล็บเท่านั้นเพื่อง่ายต่อความเข้าใจ ตัวอย่างของวงเล็บที่สมดุลคือ\n",
    "\n",
    "(()()()())\n",
    "\n",
    "(((())))\n",
    "\n",
    "(()((())()))\n",
    "\n",
    "ตัวอย่างที่ไม่สมดุล \n",
    "\n",
    "((((((())\n",
    "\n",
    "()))\n",
    "\n",
    "(()()(()\n",
    "\n",
    "เราต้องการจะเขียนโปรแกรมเพื่อทำการตรวจสอบความสมดุลของวงเล็บ โดยมีข้อมูลขาเข้าคือายอักขระที่ประกอบด้วยวงเล็บ แล้วมีผลลัพธ์คือ True ในกรณีที่สมดุล หรือ False ในกรณีที่ไม่สมดุล\n",
    "\n",
    "ส่วนถัดไปคือการออกแบบขั้นตอนวิธีที่จะแก้ปัญหานี้ ซึ่งปัญหานี้ไม่ซับซ้อน หากใช้การสังเกตก็จะพบว่า ) จะถือว่าไม่ขัดกับหลักสมดุลถ้ามี ( ก่อนหน้า และเจอคู่ของมัน เมื่อเจอคู่แล้วก็ไม่ควรจะต้องพิจารณาคู่นั้นอีก\n",
    "จะเห็นได้ว่าเราต้องมีการจำ ( ไว้จนกว่าจะเจอคู่ของมันจึงลบออก \n",
    "\n",
    "#### คำถาม\n",
    "จงทดลองลองแก้ตัวอย่าง (()()()()) และ ((((((()) ด้วยมือ\n",
    "\n",
    "เมื่อทดลองแล้วจะพบว่าการกระทำไม่ซับซ้อน คือ เจอ ( ให้จำ เจอ ) ให้ลบ ( ตัวล่าสุดออก ซึ่งการจำกับการลบตัวล่าสุดมักจะมีความเกียวข้องกับการใช้งานแถวซ้อน \n",
    "\n",
    "ก่อนที่จะลงถึงการแปลงเป็นรหัสขอเน้นย้ำให้ผู้พัฒนารับข้อมูลขาเข้าแล้วพิจารณาก่อนว่ารูปแบบข้อมูลขาเข้าที่รับมานั้นใช้งานได้ทันทีหรือว่าต้องแปลงให้เป็นรูปแบบอื่นก่อน"
   ]
  },
  {
   "cell_type": "code",
   "execution_count": 3,
   "metadata": {
    "collapsed": false
   },
   "outputs": [
    {
     "name": "stdout",
     "output_type": "stream",
     "text": [
      "(()()()())\n",
      "(\n",
      "(\n",
      ")\n",
      "(\n",
      ")\n",
      "(\n",
      ")\n",
      "(\n",
      ")\n",
      ")\n"
     ]
    }
   ],
   "source": [
    "myString = input()\n",
    "index = 0\n",
    "while index < len(myString) :\n",
    "    print(myString[index])\n",
    "    index = index + 1"
   ]
  },
  {
   "cell_type": "code",
   "execution_count": 4,
   "metadata": {
    "collapsed": false
   },
   "outputs": [
    {
     "name": "stdout",
     "output_type": "stream",
     "text": [
      "(()()()())\n",
      "(\n",
      "(\n",
      ")\n",
      "(\n",
      ")\n",
      "(\n",
      ")\n",
      "(\n",
      ")\n",
      ")\n"
     ]
    }
   ],
   "source": [
    "myString = input()\n",
    "myList = list(myString)\n",
    "index = 0\n",
    "while index < len(myList) :\n",
    "    print(myList[index])\n",
    "    index = index + 1"
   ]
  },
  {
   "cell_type": "markdown",
   "metadata": {},
   "source": [
    "จากรหัสด้านบนแบบแรกจะใช้ str ตรงๆ แล้วเข้าถึงด้วยดัชนี ในขณะที่แบบที่สองแปลง str ให้เป็น list ของตัวอักษรก่อนแล้วจึงเข้าถึง list ด้วยดัชนี ซึ่งไม่ต่างกัน ดังนั้นเราจะเลือกใช้แบบไหนก็ได้"
   ]
  },
  {
   "cell_type": "code",
   "execution_count": 5,
   "metadata": {
    "collapsed": false
   },
   "outputs": [
    {
     "name": "stdout",
     "output_type": "stream",
     "text": [
      "['(', '(', '(', ')', ')', ')']\n"
     ]
    }
   ],
   "source": [
    "class stack:\n",
    "     def __init__(self):\n",
    "         self.items = []\n",
    "\n",
    "     def isEmpty(self):\n",
    "         return self.items == []\n",
    "\n",
    "     def push(self, item):\n",
    "         self.items.append(item)\n",
    "\n",
    "     def pop(self):\n",
    "         return self.items.pop()\n",
    "\n",
    "     def peek(self):\n",
    "         return self.items[len(self.items)-1]\n",
    "\n",
    "     def size(self):\n",
    "         return len(self.items)\n",
    "        \n",
    "def parChecker(symbolString):\n",
    "    s = stack()\n",
    "    index = 0\n",
    "    while index < len(symbolString) :\n",
    "        symbol = symbolString[index]\n",
    "        s.push(symbol)\n",
    "        index = index + 1\n",
    "     \n",
    "    print(s.items)\n",
    "\n",
    "parChecker('((()))')"
   ]
  },
  {
   "cell_type": "markdown",
   "metadata": {},
   "source": [
    "ณ ขณะนี้ทำเพียงแค่ใส่วงเล็บลงใน stack ซึ่งจากข้อสังเกตพบว่าต้องการเก็บแค่ ( เท่านั้น"
   ]
  },
  {
   "cell_type": "code",
   "execution_count": 6,
   "metadata": {
    "collapsed": false
   },
   "outputs": [
    {
     "name": "stdout",
     "output_type": "stream",
     "text": [
      "['(', '(', '(']\n"
     ]
    }
   ],
   "source": [
    "class stack:\n",
    "     def __init__(self):\n",
    "         self.items = []\n",
    "\n",
    "     def isEmpty(self):\n",
    "         return self.items == []\n",
    "\n",
    "     def push(self, item):\n",
    "         self.items.append(item)\n",
    "\n",
    "     def pop(self):\n",
    "         return self.items.pop()\n",
    "\n",
    "     def peek(self):\n",
    "         return self.items[len(self.items)-1]\n",
    "\n",
    "     def size(self):\n",
    "         return len(self.items)\n",
    "        \n",
    "def parChecker(symbolString):\n",
    "    s = stack()\n",
    "    index = 0\n",
    "    while index < len(symbolString) :\n",
    "        symbol = symbolString[index]\n",
    "        if symbol == \"(\":\n",
    "            s.push(symbol)\n",
    "        index = index + 1\n",
    "     \n",
    "    print(s.items)\n",
    "\n",
    "parChecker('((()))')"
   ]
  },
  {
   "cell_type": "markdown",
   "metadata": {},
   "source": [
    "แต่เรายังไม่ได้พิจารณาในกรณที่เจอ ) ว่าจะต้องทำอะไร ถ้าหากว่าตัวบนของ stack เป็น ( ให้เอาออกมา ซึ่งจะตรงกับเงื่อนไข stack ไม่ว่าง แต่ถ้าไม่ใช่หมายความว่าไม่เจอคู่ และไม่สมดุล ซึ่งจะตรงกับเงื่อนไข stack นั้นว่าง ถ้าเจอว่าไม่สมดุลจะสามารถหยุดได้ทันที จึงทำการเพิ่มตัวแปรเอาไว้เก็บและนำไปใช้ในการตรวจสอบการเข้าวงวน"
   ]
  },
  {
   "cell_type": "code",
   "execution_count": 7,
   "metadata": {
    "collapsed": false
   },
   "outputs": [
    {
     "name": "stdout",
     "output_type": "stream",
     "text": [
      "True\n",
      "True\n"
     ]
    }
   ],
   "source": [
    "class stack:\n",
    "     def __init__(self):\n",
    "         self.items = []\n",
    "\n",
    "     def isEmpty(self):\n",
    "         return self.items == []\n",
    "\n",
    "     def push(self, item):\n",
    "         self.items.append(item)\n",
    "\n",
    "     def pop(self):\n",
    "         return self.items.pop()\n",
    "\n",
    "     def peek(self):\n",
    "         return self.items[len(self.items)-1]\n",
    "\n",
    "     def size(self):\n",
    "         return len(self.items)\n",
    "        \n",
    "def parChecker(symbolString):\n",
    "    s = stack()\n",
    "    balanced = True\n",
    "    index = 0\n",
    "    while index < len(symbolString) :\n",
    "        symbol = symbolString[index]\n",
    "        if symbol == \"(\":\n",
    "            s.push(symbol)\n",
    "        else :\n",
    "            if s.isEmpty():\n",
    "                balanced = False\n",
    "            else:\n",
    "                s.pop()\n",
    "        index = index + 1\n",
    "     \n",
    "    print(balanced)\n",
    "\n",
    "parChecker('((()))')\n",
    "parChecker('(((')"
   ]
  },
  {
   "cell_type": "markdown",
   "metadata": {},
   "source": [
    "เมื่อลองจากตัวอย่างนี้พบว่ายังขาดในกรณีที่ข้อมูลขาเข้าหมดแล้วแต่ ( ยังเหลือตัวที่ไม่มีคู่อยู่ จึงต้องเพิ่มเงื่อนไขมาตรวจสอบซึ่งการเหลือตัวที่ไม่มีคู่คือข้อมูลขาเข้าหมดแล้วแต่ stack ไม่ว่าง"
   ]
  },
  {
   "cell_type": "code",
   "execution_count": 8,
   "metadata": {
    "collapsed": false
   },
   "outputs": [
    {
     "name": "stdout",
     "output_type": "stream",
     "text": [
      "True\n",
      "False\n",
      "False\n"
     ]
    }
   ],
   "source": [
    "class stack:\n",
    "     def __init__(self):\n",
    "         self.items = []\n",
    "\n",
    "     def isEmpty(self):\n",
    "         return self.items == []\n",
    "\n",
    "     def push(self, item):\n",
    "         self.items.append(item)\n",
    "\n",
    "     def pop(self):\n",
    "         return self.items.pop()\n",
    "\n",
    "     def peek(self):\n",
    "         return self.items[len(self.items)-1]\n",
    "\n",
    "     def size(self):\n",
    "         return len(self.items)\n",
    "        \n",
    "def parChecker(symbolString):\n",
    "    s = stack()\n",
    "    balanced = True\n",
    "    index = 0\n",
    "    while index < len(symbolString) :\n",
    "        symbol = symbolString[index]\n",
    "        if symbol == \"(\":\n",
    "            s.push(symbol)\n",
    "        else :\n",
    "            if s.isEmpty():\n",
    "                balanced = False\n",
    "            else:\n",
    "                s.pop()\n",
    "        index = index + 1\n",
    "        \n",
    "    if balanced and s.isEmpty():\n",
    "        balanced = True\n",
    "    else:\n",
    "        balanced = False \n",
    "    \n",
    "    return balanced\n",
    "\n",
    "print(parChecker('((()))'))\n",
    "print(parChecker('((('))\n",
    "print(parChecker('((())'))"
   ]
  },
  {
   "cell_type": "markdown",
   "metadata": {},
   "source": [
    "#### คำถาม\n",
    "จงออกแบบและเขียนโปรแกรมเพื่อแก้ปัญหาการตรวจสอบวงเล็บทุกชนิด (){}[]"
   ]
  },
  {
   "cell_type": "code",
   "execution_count": 9,
   "metadata": {
    "collapsed": true
   },
   "outputs": [],
   "source": [
    "# try here"
   ]
  },
  {
   "cell_type": "markdown",
   "metadata": {},
   "source": [
    "### 5.3.4 การแปลงเลขฐานสอง\n",
    "การเข้าใจถึงเลขฐานและการแปลงเลขฐานถือเป็นพื้นฐานสำคัญในวิทยาการคอมพิวเตอร์ สำหรับหลักการพื้นฐานง่ายๆ สำหรับการแปลงเลขฐานใดๆ คือ การแยกหลักของเลขฐาน $10$ เช่น $223$ เป็นเลขฐาน $10$ อยู่แล้ว แต่แยกหลักออกมาได้เป็น  $2 \\times 10^2 + 2 \\times 10^1 + 3 \\times 10^0$ ให้สังเกตที่เลขยกกำลัง $10$ ที่หลักหน่วย สิบ ร้อย มีเลขยกกำลังเป็น $0, 1, 2$ ตามลำดับ ด้วยหลักการเดียวกันนี้สำหรับเลขฐานอื่นๆ หรือ ณ ที่นี้คือฐาน $2$ การไล่หลักก็จะเป็น $2^0, 2^1, 2^2, ...$ เราจะได้เป็น $1\\times2^{7} + 1\\times2^{6} + 1\\times2^{5} + 0\\times2^{4} + 1\\times2^{3} + 0\\times2^{2} + 0\\times2^{1} + 1\\times2^{0}$ เมื่อแยกออกมาเป็นหลักแล้วจะได้เป็น $11101001$ \n",
    "\n",
    "การจะหาลำดับนี้ได้นั้นเราจะใช้วิธีการหารไปเรื่อยๆ แล้วเก็บเศษไว้ ส่วนผลหารก็จะถูกนำไปหารต่อ ซึ่งเศษที่ได้นั้นจะเป็นหลักต่ำสุด อย่างฐาน $10$ เราหาร $234 / 10$ ได้เศษคือ $4$ ผลหารคือ $23$ แล้วหารต่อ $23 / 10$ ได้เศษคือ 3 ผลหารคึือ $2$ แล้วหารต่อ $2 / 10$ ได้เศษคือ $2$ และผลหารคือ $0$ ซึ่งคือเงื่อนไขในการหยุดทำต่อ \n",
    "\n",
    "เมื่อมองถึงการแสดงผลจะเห็นว่า เศษของการหารครั้งแรกคือหลักท้ายสุด และเศษของการหารครั้งสุดท้ายคือหลักแรกสุด ซึ่งสอดคล้องกับการกลับลำดับและสามารถใช้แถวคอย ได้ เมื่อได้แนวทางแล้วลองพิจารณาตัวอย่างสำหรับเลขฐาน $2$ ดัง [รูปที่ 5-2](#figure_02) (จาก [interactivepython](http://interactivepython.org/runestone/static/pythonds/BasicDS/ConvertingDecimalNumberstoBinaryNumbers.html))\n",
    "\n",
    "<a name=\"figure_02\"></a> \n",
    "![alt text](/files/imgs/dectobin.png)\n",
    "<center>รูปที่ 5-2 การแปลงเลขฐาน 2</center>"
   ]
  },
  {
   "cell_type": "code",
   "execution_count": 10,
   "metadata": {
    "collapsed": false
   },
   "outputs": [
    {
     "name": "stdout",
     "output_type": "stream",
     "text": [
      "1\n",
      "1\n",
      "1\n",
      "1\n",
      "1\n",
      "0\n",
      "1\n",
      "1\n"
     ]
    }
   ],
   "source": [
    "class stack:\n",
    "     def __init__(self):\n",
    "         self.items = []\n",
    "\n",
    "     def isEmpty(self):\n",
    "         return self.items == []\n",
    "\n",
    "     def push(self, item):\n",
    "         self.items.append(item)\n",
    "\n",
    "     def pop(self):\n",
    "         return self.items.pop()\n",
    "\n",
    "     def peek(self):\n",
    "         return self.items[len(self.items)-1]\n",
    "\n",
    "     def size(self):\n",
    "         return len(self.items)\n",
    "        \n",
    "def divideBy2(decNumber):\n",
    "\n",
    "    while decNumber > 0:\n",
    "        rem = decNumber % 2\n",
    "        decNumber = decNumber // 2\n",
    "        print(rem)\n",
    "        \n",
    "divideBy2(223)"
   ]
  },
  {
   "cell_type": "markdown",
   "metadata": {},
   "source": [
    "จากรหัสด้านบนเราทำการหารแล้วแสดงผลของเศษเลยซึ่งจะเห็นว่าเกือบถูกแล้วแต่ต้องกลับลำดับการแสดงผล จึงใช้ stack เข้ามาช่วยเก็บก่อน"
   ]
  },
  {
   "cell_type": "code",
   "execution_count": 11,
   "metadata": {
    "collapsed": false
   },
   "outputs": [
    {
     "name": "stdout",
     "output_type": "stream",
     "text": [
      "11011111\n"
     ]
    }
   ],
   "source": [
    "class stack:\n",
    "     def __init__(self):\n",
    "         self.items = []\n",
    "\n",
    "     def isEmpty(self):\n",
    "         return self.items == []\n",
    "\n",
    "     def push(self, item):\n",
    "         self.items.append(item)\n",
    "\n",
    "     def pop(self):\n",
    "         return self.items.pop()\n",
    "\n",
    "     def peek(self):\n",
    "         return self.items[len(self.items)-1]\n",
    "\n",
    "     def size(self):\n",
    "         return len(self.items)\n",
    "        \n",
    "def divideBy2(decNumber):\n",
    "    remstack = stack()\n",
    "\n",
    "    while decNumber > 0:\n",
    "        rem = decNumber % 2\n",
    "        remstack.push(rem)\n",
    "        decNumber = decNumber // 2\n",
    "\n",
    "    binString = \"\"\n",
    "    while not remstack.isEmpty():\n",
    "        binString = binString + str(remstack.pop())\n",
    "\n",
    "    return binString\n",
    "\n",
    "print(divideBy2(223))"
   ]
  },
  {
   "cell_type": "markdown",
   "metadata": {},
   "source": [
    "นอกจากจะใช้ stack ช่วยแล้วในส่วนรหัสตั้งแต่บรรทัดที่ 28 - 30 จะเป็นการนำเศษมาต่อกันในรูปแบบของสายอักขระเพื่อนำมาคืนค่าและแสดงผลต่อไป\n",
    "\n",
    "#### คำถาม\n",
    "จงเขียนโปรแกรมเพื่อแปลงเลขฐาน $10$ เป็นเลขฐานใดๆ "
   ]
  },
  {
   "cell_type": "code",
   "execution_count": 12,
   "metadata": {
    "collapsed": true
   },
   "outputs": [],
   "source": [
    "# try here"
   ]
  },
  {
   "cell_type": "markdown",
   "metadata": {},
   "source": [
    "## 5.4 แถวคอย (queue)\n",
    "แถวคอยเป็นอีกโครงสร้างข้อมูลหนึ่งที่เก็บข้อมูลแบบมีลำดับ ซึ่งเราจะมองว่ามี หัว-ท้าย โดยข้อมูลที่เข้ามาก่อนจะถูกนำออกมาใช้ก่อน ภาษาอังกฤษที่อธิบายถึงพฤติกรรมนี้คือ fast-in first-out หรือ FIFO ซึ่งการประยุกต์ใช้งานของแถวคอยค่อนข้างที่จะตรงไปตรงมาและใช้กับงานจำลองสถานการณ์จัดลำดับการทำงานที่ต้องมีการใช้ทรัพยากรณ์ร่วมกันแบบจำกัดแล้วต้องมีการคอย\n",
    "\n",
    "### 5.4.1 แบบชนิดข้อมูลนามธรรมของแถวคอย\n",
    "ขอตั้งชื่อคลาสว่า queue และจะใช้หลักคิดเหมือนกับตอนสร้างคลาส stack โดยนึกถึงการกระทำหลักๆ \n",
    "* สร้าง queue เปล่าๆ ที่ยังไม่มีสมาชิกเลย\n",
    "* เพิ่มข้อมูลใหม่เข้าไปที่ด้านท้ายของ queue\n",
    "* นำข้อมูลด้านหน้าของ queue ออกจาก queue\n",
    "* ถามว่า queue ว่างหรือไม่\n",
    "* ขนาดของ queue\n",
    "\n",
    "กำหนดหน้าตาของเมธอด\n",
    "* queue()\n",
    "* enqueue(item)\n",
    "* dequeue()\n",
    "* isEmpty()\n",
    "* size()\n",
    "\n",
    "ตัวอย่างการใช้งานดัง [ตารางที่ 5-3](#table_03)\n",
    "\n",
    "<a name=\"table_03\"></a>\n",
    "<center>ตารางที่ 5-3 ตัวอย่างการใช้งานคลาส queue</center>\n",
    "\n",
    "| การเรียกใช้เมธอด| ข้อมูลใน queue       | การคืนค่า |\n",
    "|------------------|--------------------|---------|\n",
    "| q = queue()      | []                 | queue      |\n",
    "| q.isEmpty()      | []                 | True    |\n",
    "| q.enqueue(4)     | [4]                |         |\n",
    "| q.enqueue('dog') | ['dog',4]          |         |\n",
    "| q.enqueue(True)  | [True,'dog',4]     |         |\n",
    "| q.size()         | [True,'dog',4]     | 3       |\n",
    "| q.isEmpty()      | [True,'dog',4]     | False   |\n",
    "| q.enqueue(8.4)   | [8.4,True,'dog',4] |         |\n",
    "| q.dequeue()      | [8.4,True,'dog']   | 4       |\n",
    "| q.dequeue()      | [8.4,True]         | 'dog'   |\n",
    "| q.size()         | [8.4,True]         | 2       |\n",
    "\n",
    "<br>\n",
    "<br>\n",
    "<br>\n",
    "<br>\n",
    "<br>\n",
    "<br>\n",
    "<br>\n",
    "<br>\n",
    "<br>\n",
    "<br>\n",
    "### 5.4.2 การสร้างคลาส queue\n"
   ]
  },
  {
   "cell_type": "code",
   "execution_count": 13,
   "metadata": {
    "collapsed": true
   },
   "outputs": [],
   "source": [
    "class queue:\n",
    "    def __init__(self):\n",
    "        self.items = []\n",
    "\n",
    "    def isEmpty(self):\n",
    "        return self.items == []\n",
    "\n",
    "    def enqueue(self, item):\n",
    "        self.items.insert(0,item)\n",
    "\n",
    "    def dequeue(self):\n",
    "        return self.items.pop()\n",
    "\n",
    "    def size(self):\n",
    "        return len(self.items)"
   ]
  },
  {
   "cell_type": "markdown",
   "metadata": {},
   "source": [
    "รหัสส่วนที่ไม่คุ้นเคยที่สุดคือ enqueue ซึงใช้เมธอด insert ของ list ซึ่งใช้เวลา $O(n)$ แตกต่างจาก append ซึ่งใช้เวลา $O(1)$ ถึงแม้จะเป็นการ insert เข้าไปที่ตำแหน่งที่ 0 ตลอดเวลาก็ตาม\n",
    "\n",
    "### 5.4.3 การจำลองเกมมันร้อน (hot potato)\n",
    "เป็นเกมที่จะส่งมันไปเรื่อยๆ จนถึงจำนวนครั้งที่กำหนด หากมันไปตกอยู่ที่ใครคนนั้นจะถูกคัดออก แล้วเริ่มรอบใหม่ที่คนถัดไปแล้วส่งมันต่อไปเรื่อยๆ ด้วยจำนวนครั้งเท่าเดิม คัดคนออกไปเรื่อยๆ จนถึงคนสุดท้ายจะได้ผู้ชนะ ตัวอย่างดัง [รูปที่ 5-3](#figure_03) (จาก [interactivepython](http://interactivepython.org/runestone/static/pythonds/BasicDS/SimulationHotPotato.html))\n",
    "\n",
    "<a name=\"figure_03\"></a> \n",
    "![alt text](/files/imgs/hotpotato.png)\n",
    "<center>รูปที่ 5-3 การจำลองเกมมันร้อน</center>\n",
    "\n",
    "เราต้องการจะทำการจำลองสถานการณ์ว่าใครจะเป็นผู้ถูกคัดออกเป็นลำดับๆ จนเหลือคนสุดท้าย ให้พิจารณาว่าหากมองเหมือนกับว่าผู้เล่นผลัดกันมาอยู่ที่หัวของแถวคอย เดินออกจากแถวคอย แล้วไปต่อท้าย นับ 1 ทำแบบนี้ไปเรื่อยๆ สำหรับคนถัดไปแล้วนับต่อจนถึงจำนวนครั้งที่กำหนดไว้ คนที่อยู่หัวของแถวคอยเปรียบเสมือนคนที่กำลังถือมันอยู่ ก็จะถูกเอาออกจากแถวคอย แล้วจึงเริ่มรอบใหม่ ดัง [รูปที่ 5-4](#figure_04) (จาก [interactivepython](http://interactivepython.org/runestone/static/pythonds/BasicDS/SimulationHotPotato.html))\n",
    "\n",
    "<a name=\"figure_04\"></a> \n",
    "![alt text](/files/imgs/namequeue.png)\n",
    "<center>รูปที่ 5-4 การใช้แถวคอยสำหรับการจำลองเกมมันร้อน</center>\n",
    "\n",
    "รหัสเป็นดังนี้"
   ]
  },
  {
   "cell_type": "code",
   "execution_count": 14,
   "metadata": {
    "collapsed": false
   },
   "outputs": [
    {
     "name": "stdout",
     "output_type": "stream",
     "text": [
      "Susan\n"
     ]
    }
   ],
   "source": [
    "class queue:\n",
    "    def __init__(self):\n",
    "        self.items = []\n",
    "\n",
    "    def isEmpty(self):\n",
    "        return self.items == []\n",
    "\n",
    "    def enqueue(self, item):\n",
    "        self.items.insert(0,item)\n",
    "\n",
    "    def dequeue(self):\n",
    "        return self.items.pop()\n",
    "\n",
    "    def size(self):\n",
    "        return len(self.items)\n",
    "    \n",
    "def hotPotato(namelist, num):\n",
    "    simqueue = queue()\n",
    "    for name in namelist:\n",
    "        simqueue.enqueue(name)\n",
    "\n",
    "    while simqueue.size() > 1:\n",
    "        for i in range(num):\n",
    "            simqueue.enqueue(simqueue.dequeue())\n",
    "\n",
    "        simqueue.dequeue()\n",
    "\n",
    "    return simqueue.dequeue()\n",
    "\n",
    "print(hotPotato([\"Bill\",\"David\",\"Susan\",\"Jane\",\"Kent\",\"Brad\"],7))\n"
   ]
  },
  {
   "cell_type": "markdown",
   "metadata": {},
   "source": [
    "ส่วนที่ซับซ้อนที่สุดคือ บรรทัดที่ 22 - 24 ซึ่งจากที่ได้อธิบายไว้คือ while นั้นจะทำการจำลองจนกว่าจะเจอผู้ชนะ หรือ size มีค่าเท่ากับ 1 ซึ่ง size จะลดลงทุกครั้งที่มีการ dequeue ออกตรงบรรทัดที่ 26 หรือในเกมคือคนที่ถือมันอยู่ แล้วทุกรอบของเกมจะทำการส่งต่อมันไปเรื่อยๆ ซึ่งก็คือ for ในบรรทัดที่ 23 - 24 ที่เราทำเหมือนการส่งต่อมันคือการที่คนออกจากหัว queue แล้วไปต่อท้าย queue ใหม่\n",
    "\n",
    "#### คำถาม\n",
    "จงเขียนโปรแกรมที่ทำการจำลองเกมมันร้อนโดยที่มี list ของ int เป็นตัวบอกว่าแต่ละรอบจะส่งมันต่อกี่ครั้ง"
   ]
  },
  {
   "cell_type": "code",
   "execution_count": 15,
   "metadata": {
    "collapsed": true
   },
   "outputs": [],
   "source": [
    "# try here"
   ]
  },
  {
   "cell_type": "markdown",
   "metadata": {
    "collapsed": true
   },
   "source": [
    "## 5.5 แถวคอยสองทาง (deque)\n",
    "แถวคอยสองทางเป็นโครงสร้างข้อมูลที่มีหัว-ท้าย แต่จะต่างจากแถวคอยตรงที่แถวคอยสามารถเลือกได้ว่าจะต่อคิวตรงด้านหัวหรือด้านท้าย และการเอาออกจากแถวคอยสองทางก็สามารถเลือกได้เช่นกันว่าต้องการเอาออกจากด้านหัวหรือด้านท้าย ดัง [รูปที่ 5-5](#figure_05) (จาก [interactivepython](http://interactivepython.org/runestone/static/pythonds/BasicDS/WhatIsaDeque.html))\n",
    "\n",
    "<a name=\"figure_05\"></a> \n",
    "![alt text](/files/imgs/basicdeque.png)\n",
    "<center>รูปที่ 5-5 แถวคอยสองทาง</center>\n",
    "\n",
    "#### คำถาม\n",
    "จงออกแบบแบบชนิดข้อมูลนามธรรมและเมธอดของคลาส deque แล้วสร้างคลาส deque ด้วย\n"
   ]
  },
  {
   "cell_type": "code",
   "execution_count": 16,
   "metadata": {
    "collapsed": true
   },
   "outputs": [],
   "source": [
    "# try here"
   ]
  },
  {
   "cell_type": "markdown",
   "metadata": {},
   "source": [
    "## 5.6 รายการแบบโยง (linked list)\n",
    "list เป็นคลาสโครงสร้างข้อมูลรายการที่ภาษาไพทอนมีให้ใช้อยู่แล้ว แต่ในกรณีของภาษาอื่นๆ เราต้องออกแบบและเขียนขึ้นมาใช้เอง ในที่นี้เราจะสร้างรายการแบบโยงซึ่งจะมีความแตกต่างจาก list ของภาษาไพทอนในแง่มุมของการจัดเก็บข้อมูลในหน่วยความจำ โดยจะขอแบ่งรายการออกเป็น 2 ประเภทคือ รายการแบบมีลำดับ (unordered list) และรายการแบบไม่มีลำดับ (ordered list) โดยคำว่าลำดับตรงนี้หมายถึงข้อมูลเรียงกันจากน้อยไปมาก หรือมากไปน้อย ต่างจากแถวซ้อนและแถวคอยที่อธิบายคำว่าลำดับคือลำดับการนำข้อมูลเข้า \n",
    "\n",
    "อย่างไรก็ดีต่อให้จะมีลำดับหรือไม่มีลำดับ ข้อมูลก็ยังมีความสัมพันธ์กันเชิงตำแหน่ง สามารถอ้างถึงด้วยดัชนีเป็น ข้อมูลตัวที่หนึ่ง สอง สาม หรือลำดับสุดท้าย เป็นต้น และเพื่อความสะดวกจะขอเพิ่มข้อจำกัดคือข้อมูลในรายการจะเป็นตัวเลขที่ไม่ซ้ำกันเท่านั้น\n",
    "\n",
    "### 5.6.1 แบบชนิดข้อมูลนามธรรมของรายการแบบไม่มีลำดับ \n",
    "ก่อนอื่นขอตั้งชื่อคลาสว่า UnorderedList เพื่อง่ายต่อการอ้างอิงแบบชนิดข้อมูลนามธรรมประกอบด้วย\n",
    "* UnorderedList() ทำการสร้าง UnorderedList ใหม่แล้วคืนค่าเป็น UnorderedList ว่าง\n",
    "* add(item) รับพารามิเตอร์คือ item เพื่อเพิ่มเข้าใน UnorderedList\n",
    "* remove(item) ค้นหา item แล้วเอาออกจาก UnorderedList\n",
    "* search(item) ค้นหา item แล้วคืนค่าว่าเจอหรือไม่ เป็น True กับ False\n",
    "* isEmpty() ตรวจสอบแล้วคืนค่าว่าว่างหรือไม่\n",
    "* size() คืนค่าขนาดของ UnorderedList\n",
    "* append(item) เพิ่ม item โดยต่อท้ายใน UnorderedList\n",
    "* index(item) หาดัชนีของ item ใน UnorderedList\n",
    "* insert(pos, item) เพิ่ม item ณ ดัชนีที่ pos \n",
    "* pop() นำข้อมูลตัวสุดท้ายออกจาก UnorderedList และคืนค่านั้นด้วย\n",
    "* pop(pos) นำข้อมูล ณ ดัชนีที่ pos ออกจาก UnorderedList และคืนค่านั้นด้วย\n",
    "\n",
    "### 5.6.2 การสร้างคลาส UnorderedList\n",
    "การสร้าง UnorderedList อาศัยความเชื่อมโยง (link) ระหว่างข้อมูล แต่ไม่จำเป็นต้องมีความสัมพันธ์หรือต่อกันในหน่วยความจำ จึงมีชื่อเรียกภาษาอังกฤษอีกชื่อว่า linked list ตัวอย่างความสัมพันธ์เป็นดัง [รูปที่ 5-6](#figure_06) (จาก [interactivepython](http://interactivepython.org/runestone/static/pythonds/BasicDS/ImplementinganUnorderedListLinkedLists.html))\n",
    "\n",
    "<a name=\"figure_06\"></a> \n",
    "![alt text](/files/imgs/idea.png)\n",
    "![alt text](/files/imgs/idea2.png)\n",
    "<center>รูปที่ 5-6 ความเชื่อมโยงของรายการแบบโยง</center>\n",
    "\n",
    "#### 5.6.2.1 คลาส Node\n",
    "จากความสัมพันธ์แบบเชื่อมโยง ทำให้เราสามารถมองเหมือนปม (node) ที่โยงกันไปเรื่อยๆ ซึ่งจะขอสร้างคลาสชื่อ Node โดยสิ่งที่ต้องเก็บคือ ข้อมูล และ ความเชื่อมโยงสู่ Node ถัดไป ส่วนของเมธอดจะเป็นการกำหนดค่าข้อมูลและความเชื่อมโยง"
   ]
  },
  {
   "cell_type": "code",
   "execution_count": 17,
   "metadata": {
    "collapsed": true
   },
   "outputs": [],
   "source": [
    "class Node:\n",
    "    def __init__(self,initdata):\n",
    "        self.data = initdata\n",
    "        self.next = None\n",
    "\n",
    "    def getData(self):\n",
    "        return self.data\n",
    "\n",
    "    def getNext(self):\n",
    "        return self.next\n",
    "\n",
    "    def setData(self,newdata):\n",
    "        self.data = newdata\n",
    "\n",
    "    def setNext(self,newnext):\n",
    "        self.next = newnext"
   ]
  },
  {
   "cell_type": "markdown",
   "metadata": {},
   "source": [
    "สำหรับคอนสตรัคเตอร์เราจะเห็นว่ามีความต่างกับที่เคยเจอมาคือมีการรับ initdata เพื่อมากำหนดข้อมูลในบรรทัดที่ 3 ส่วนบรรทัดที่ 4 self.next ใช้บอกความสัมพันธ์ถึง Node ถัดไป ซึ่ง None หมายถึงยังไม่มีข้อมูลที่จะเชื่อมโยง ส่วนเมธอดอื่นๆ ค่อนข้างตรงไปตรงมา ตัวอย่างการสร้าง Node"
   ]
  },
  {
   "cell_type": "code",
   "execution_count": 18,
   "metadata": {
    "collapsed": false
   },
   "outputs": [
    {
     "name": "stdout",
     "output_type": "stream",
     "text": [
      "93\n"
     ]
    }
   ],
   "source": [
    "temp = Node(93)\n",
    "print(temp.getData())"
   ]
  },
  {
   "cell_type": "markdown",
   "metadata": {},
   "source": [
    "ให้ลองพิจารณาวิธีการสร้างความเชื่อมโยงอย่างง่าย"
   ]
  },
  {
   "cell_type": "code",
   "execution_count": 19,
   "metadata": {
    "collapsed": false
   },
   "outputs": [
    {
     "data": {
      "text/html": [
       "\n",
       "        <iframe\n",
       "            width=\"1050\"\n",
       "            height=\"512\"\n",
       "            src=\"http://www.pythontutor.com/iframe-embed.html#code=class%20Node%3A%0A%20%20%20%20def%20__init__%28self,initdata%29%3A%0A%20%20%20%20%20%20%20%20self.data%20%3D%20initdata%0A%20%20%20%20%20%20%20%20self.next%20%3D%20None%0A%0A%20%20%20%20def%20getData%28self%29%3A%0A%20%20%20%20%20%20%20%20return%20self.data%0A%0A%20%20%20%20def%20getNext%28self%29%3A%0A%20%20%20%20%20%20%20%20return%20self.next%0A%0A%20%20%20%20def%20setData%28self,newdata%29%3A%0A%20%20%20%20%20%20%20%20self.data%20%3D%20newdata%0A%0A%20%20%20%20def%20setNext%28self,newnext%29%3A%0A%20%20%20%20%20%20%20%20self.next%20%3D%20newnext%0A%20%20%20%20%20%20%20%20%0An0%20%3D%20Node%2893%29%0An1%20%3D%20Node%2850%29%0An0.setNext%28n1%29&cumulative=false&curInstr=13&heapPrimitives=false&mode=display&origin=opt-frontend.js&py=3&rawInputLstJSON=%5B%5D&textReferences=false\"\n",
       "            frameborder=\"0\"\n",
       "            allowfullscreen\n",
       "        ></iframe>\n",
       "        "
      ],
      "text/plain": [
       "<IPython.lib.display.IFrame at 0x2d95ea23390>"
      ]
     },
     "execution_count": 19,
     "metadata": {},
     "output_type": "execute_result"
    }
   ],
   "source": [
    "from IPython.display import IFrame\n",
    "url = 'http://www.pythontutor.com/iframe-embed.html#code=class%20Node%3A%0A%20%20%20%20def%20__init__%28self,initdata%29%3A%0A%20%20%20%20%20%20%20%20self.data%20%3D%20initdata%0A%20%20%20%20%20%20%20%20self.next%20%3D%20None%0A%0A%20%20%20%20def%20getData%28self%29%3A%0A%20%20%20%20%20%20%20%20return%20self.data%0A%0A%20%20%20%20def%20getNext%28self%29%3A%0A%20%20%20%20%20%20%20%20return%20self.next%0A%0A%20%20%20%20def%20setData%28self,newdata%29%3A%0A%20%20%20%20%20%20%20%20self.data%20%3D%20newdata%0A%0A%20%20%20%20def%20setNext%28self,newnext%29%3A%0A%20%20%20%20%20%20%20%20self.next%20%3D%20newnext%0A%20%20%20%20%20%20%20%20%0An0%20%3D%20Node%2893%29%0An1%20%3D%20Node%2850%29%0An0.setNext%28n1%29&cumulative=false&curInstr=13&heapPrimitives=false&mode=display&origin=opt-frontend.js&py=3&rawInputLstJSON=%5B%5D&textReferences=false'\n",
    "IFrame(url, width=1050, height=512)"
   ]
  },
  {
   "cell_type": "markdown",
   "metadata": {},
   "source": [
    "ณ ขั้นที่ 14 และ 15 จะสังเกตได้ถึงความเปลี่ยนแปลงในความเชื่อมโยง next ของ 93 จากเดิมคือ None กลายเป็นโยงไปหา 50\n",
    "\n",
    "#### 5.6.2.2 คลาส UnorderedList\n",
    "เราจะสร้าง UnorderedList โดยเริ่มจากการไม่มีสิ่งใดเลย ซึ่งการจะบอกว่าไม่มีสิ่งใดเลยเรามักจะอ้างถึง None ดังนั้นคอนสตรัคเตอร์จึงเป็นดังนี้"
   ]
  },
  {
   "cell_type": "code",
   "execution_count": 20,
   "metadata": {
    "collapsed": true
   },
   "outputs": [],
   "source": [
    "class UnorderedList:\n",
    "\n",
    "    def __init__(self):\n",
    "        self.head = None"
   ]
  },
  {
   "cell_type": "markdown",
   "metadata": {},
   "source": [
    "โดยมี head เป็นตัวบอกตำแหน่งหัวของ UnorderedList\n",
    "\n",
    "การเพิ่มข้อมูลด้วย add เราจะเพิ่มข้อมูลที่หัวเสมอ โดยเริ่มจากการสร้าง Node ที่มีข้อมูล item แล้วนำไปแทรกที่หัวของ UnorderedList ดัง [รูปที่ 5-7](#figure_07) (จาก [interactivepython](http://interactivepython.org/runestone/static/pythonds/BasicDS/ImplementinganUnorderedListLinkedLists.html))\n",
    "\n",
    "<a name=\"figure_07\"></a> \n",
    "![alt text](/files/imgs/addtohead.png)\n",
    "<center>รูปที่ 5-7 การทำงานของเมธอด add</center>"
   ]
  },
  {
   "cell_type": "code",
   "execution_count": 21,
   "metadata": {
    "collapsed": false
   },
   "outputs": [],
   "source": [
    "class UnorderedList:\n",
    "\n",
    "    def __init__(self):\n",
    "        self.head = None\n",
    "        \n",
    "    def add(self,item):\n",
    "        temp = Node(item)\n",
    "        temp.setNext(self.head)\n",
    "        self.head = temp"
   ]
  },
  {
   "cell_type": "markdown",
   "metadata": {},
   "source": [
    "โดยลำดับการเขียนรหัสคือ บรรทัดที่ 7 จะสร้าง Node ชื่อ temp ที่มีข้อมูล item ขึ้นมาก่อน ซึ่ง next ของ temp ยังโยงไปที่ None อยู่ จึงต้องทำบรรทัดที่ 8 คือกำหนด next ให้เป็น Node ที่ head โยงอยู่ แล้วจึงทำบรรทัดที่ 9 เพื่อบอกว่าหัวของ UnorderedList ตัวใหม่คือ temp\n",
    "\n",
    "size เป็นการหาขนาด ซึ่งจะไม่ตรงไปตรงมาเหมือนของคลาส stack และ queue เนื่องจากความเชื่อมโยงบอกแค่ว่ามีข้อมูลต่อไปแต่ไม่ได้บอกว่ามีต่อไปกี่ตัว ดังนั้นจึงต้องใช้วงวนเพื่อหาขนาด"
   ]
  },
  {
   "cell_type": "code",
   "execution_count": 22,
   "metadata": {
    "collapsed": true
   },
   "outputs": [],
   "source": [
    "class UnorderedList:\n",
    "\n",
    "    def __init__(self):\n",
    "        self.head = None\n",
    "        \n",
    "    def add(self,item):\n",
    "        temp = Node(item)\n",
    "        temp.setNext(self.head)\n",
    "        self.head = temp\n",
    "    \n",
    "    def size(self):\n",
    "        current = self.head\n",
    "        count = 0\n",
    "        while current != None:\n",
    "            count = count + 1\n",
    "            current = current.getNext()\n",
    "\n",
    "        return count"
   ]
  },
  {
   "cell_type": "markdown",
   "metadata": {},
   "source": [
    "search เป็นการถามว่ามี item อยู่ใน UnorderedList หรือไม่ เราจะใช้วงวนแบบเดียวกับ size เพื่อค้นหา item\n",
    "\n",
    "remove ก็เช่นกันต้องอาศัยวงวนในการค้นหา item แล้วลบ Node ที่มี item ออก"
   ]
  },
  {
   "cell_type": "code",
   "execution_count": 23,
   "metadata": {
    "collapsed": true
   },
   "outputs": [],
   "source": [
    "class UnorderedList:\n",
    "\n",
    "    def __init__(self):\n",
    "        self.head = None\n",
    "        \n",
    "    def add(self,item):\n",
    "        temp = Node(item)\n",
    "        temp.setNext(self.head)\n",
    "        self.head = temp\n",
    "    \n",
    "    def size(self):\n",
    "        current = self.head\n",
    "        count = 0\n",
    "        while current != None:\n",
    "            count = count + 1\n",
    "            current = current.getNext()\n",
    "\n",
    "        return count\n",
    "\n",
    "    def search(self,item):\n",
    "        current = self.head\n",
    "        found = False\n",
    "        while current != None and not found:\n",
    "            if current.getData() == item:\n",
    "                found = True\n",
    "            else:\n",
    "                current = current.getNext()\n",
    "\n",
    "        return found\n",
    "    \n",
    "    def remove(self,item):\n",
    "        current = self.head\n",
    "        previous = None\n",
    "        found = False\n",
    "        while not found:\n",
    "            if current.getData() == item:\n",
    "                found = True\n",
    "            else:\n",
    "                previous = current\n",
    "                current = current.getNext()\n",
    "\n",
    "        if previous == None:\n",
    "            self.head = current.getNext()\n",
    "        else:\n",
    "            previous.setNext(current.getNext())"
   ]
  },
  {
   "cell_type": "markdown",
   "metadata": {},
   "source": [
    "จะขออธิบายเฉพาะ remove โดยบรรทัดที่ 35-40 เป็นวงวนในการค้นหา item และต้องมีการเก็บ Node ปัจจุบันคือ current กับ Node ก่อนหน้าคือ previous ที่ต้องเก็บเพราะเมื่อเราเจอ item แล้วจะต้องเปลี่ยนความเชื่อมโยงด้วยบรรทัดที่ 45 ดัง [รูปที่ 5-8](#figure_08) (จาก [interactivepython](http://interactivepython.org/runestone/static/pythonds/BasicDS/ImplementinganUnorderedListLinkedLists.html)) เมื่อ item คือ 17\n",
    "\n",
    "<a name=\"figure_08\"></a> \n",
    "![alt text](/files/imgs/remove.png)\n",
    "<center>รูปที่ 5-8 การทำงานของเมธอด remove</center>\n",
    "\n",
    "แต่จะมีกรณีพิเศษคือเมื่อเจอ item ที่หัวของ UnorderedList หรือ head พอดี ก็จะแค่เปลี่ยนความเชื่อมโยงของ head ไปยัง next ของ current แทน ด้วยบรรทัดที่ 44-45 ดัง [รูปที่ 5-9](#figure_09) (จาก [interactivepython](http://interactivepython.org/runestone/static/pythonds/BasicDS/ImplementinganUnorderedListLinkedLists.html))\n",
    "\n",
    "<a name=\"figure_09\"></a> \n",
    "![alt text](/files/imgs/remove2.png)\n",
    "<center>รูปที่ 5-9 การทำงานของเมธอด remove กรณี head</center>\n",
    "\n",
    "ส่วน isEmpty ค่อนข้างง่ายคือตรวจสอบว่า head เป็น None หรือไม่ สรุปรวมรหัสพร้อมตัวอย่างการใช้งานได้ดังนี้"
   ]
  },
  {
   "cell_type": "code",
   "execution_count": 24,
   "metadata": {
    "collapsed": false
   },
   "outputs": [
    {
     "name": "stdout",
     "output_type": "stream",
     "text": [
      "6\n",
      "True\n",
      "False\n",
      "True\n",
      "7\n",
      "6\n",
      "5\n",
      "4\n",
      "False\n"
     ]
    }
   ],
   "source": [
    "class Node:\n",
    "    def __init__(self,initdata):\n",
    "        self.data = initdata\n",
    "        self.next = None\n",
    "\n",
    "    def getData(self):\n",
    "        return self.data\n",
    "\n",
    "    def getNext(self):\n",
    "        return self.next\n",
    "\n",
    "    def setData(self,newdata):\n",
    "        self.data = newdata\n",
    "\n",
    "    def setNext(self,newnext):\n",
    "        self.next = newnext\n",
    "\n",
    "\n",
    "class UnorderedList:\n",
    "\n",
    "    def __init__(self):\n",
    "        self.head = None\n",
    "\n",
    "    def isEmpty(self):\n",
    "        return self.head == None\n",
    "\n",
    "    def add(self,item):\n",
    "        temp = Node(item)\n",
    "        temp.setNext(self.head)\n",
    "        self.head = temp\n",
    "\n",
    "    def size(self):\n",
    "        current = self.head\n",
    "        count = 0\n",
    "        while current != None:\n",
    "            count = count + 1\n",
    "            current = current.getNext()\n",
    "\n",
    "        return count\n",
    "\n",
    "    def search(self,item):\n",
    "        current = self.head\n",
    "        found = False\n",
    "        while current != None and not found:\n",
    "            if current.getData() == item:\n",
    "                found = True\n",
    "            else:\n",
    "                current = current.getNext()\n",
    "\n",
    "        return found\n",
    "\n",
    "    def remove(self,item):\n",
    "        current = self.head\n",
    "        previous = None\n",
    "        found = False\n",
    "        while not found:\n",
    "            if current.getData() == item:\n",
    "                found = True\n",
    "            else:\n",
    "                previous = current\n",
    "                current = current.getNext()\n",
    "\n",
    "        if previous == None:\n",
    "            self.head = current.getNext()\n",
    "        else:\n",
    "            previous.setNext(current.getNext())\n",
    "\n",
    "mylist = UnorderedList()\n",
    "\n",
    "mylist.add(31)\n",
    "mylist.add(77)\n",
    "mylist.add(17)\n",
    "mylist.add(93)\n",
    "mylist.add(26)\n",
    "mylist.add(54)\n",
    "\n",
    "print(mylist.size())\n",
    "print(mylist.search(93))\n",
    "print(mylist.search(100))\n",
    "\n",
    "mylist.add(100)\n",
    "print(mylist.search(100))\n",
    "print(mylist.size())\n",
    "\n",
    "mylist.remove(54)\n",
    "print(mylist.size())\n",
    "mylist.remove(93)\n",
    "print(mylist.size())\n",
    "mylist.remove(31)\n",
    "print(mylist.size())\n",
    "print(mylist.search(93))"
   ]
  },
  {
   "cell_type": "markdown",
   "metadata": {},
   "source": [
    "#### คำถาม\n",
    "จงเขียนรหัสสำหรับเมธอด append, index, insert และ pop ของ UnorderedList"
   ]
  },
  {
   "cell_type": "code",
   "execution_count": 25,
   "metadata": {
    "collapsed": true
   },
   "outputs": [],
   "source": [
    "# try here"
   ]
  },
  {
   "cell_type": "markdown",
   "metadata": {},
   "source": [
    "<br>\n",
    "<br>\n",
    "### 5.6.3 แบบชนิดข้อมูลนามธรรมของรายการแบบมีลำดับ\n",
    "ตั้งชื่อคลาสว่า OrderedList และแบบชนิดข้อมูลนามธรรมประกอบด้วย\n",
    "* OrderedList() ทำการสร้าง OrderedList ใหม่แล้วคืนค่าเป็น OrderedList ว่าง\n",
    "* add(item) รับพารามิเตอร์คือ item เพื่อเพิ่มเข้าใน OrderedList\n",
    "* remove(item) ค้นหา item แล้วเอาออกจาก OrderedList\n",
    "* search(item) ค้นหา item แล้วคืนค่าว่าเจอหรือไม่ เป็น True กับ False\n",
    "* isEmpty() ตรวจสอบแล้วคืนค่าว่าว่างหรือไม่\n",
    "* size() คืนค่าขนาดของ OrderedList\n",
    "* index(item) หาดัชนีของ item ใน OrderedList\n",
    "* pop() นำข้อมูลตัวสุดท้ายออกจาก OrderedList และคืนค่านั้นด้วย\n",
    "* pop(pos) นำข้อมูล ณ ดัชนีที่ pos ออกจาก OrderedList และคืนค่านั้นด้วย\n",
    "\n",
    "จะเห็นว่ามีความคล้ายกับ UnorderedList แต่จะไม่มี append กับ insert เนื่องจากการเพิ่มข้อมูลจะต้องถูกนำไปเรียงลำดับเสมอ\n",
    "\n",
    "#### คำถาม\n",
    "จงสร้างคลาส OrderedList โดยใช้คลาส Node ที่มีอยู่แล้ว"
   ]
  },
  {
   "cell_type": "code",
   "execution_count": 26,
   "metadata": {
    "collapsed": true
   },
   "outputs": [],
   "source": [
    "# try here"
   ]
  },
  {
   "cell_type": "markdown",
   "metadata": {},
   "source": [
    "### 5.6.4 การวิเคราะห์รายการแบบโยง\n",
    "จากที่ได้อธิบายข้างต้น เราจะเห็นว่า isEmpty ทำได้ง่ายๆ โดยการตรวจสอบ None จึงมี $O(1)$ ในขณะที่ size, add, search และ remove ต้องใช้วงวนโดยกรณีที่แย่ที่สุดคือผ่านทุกข้อมูลในรายการ จึงมี $O(n)$\n",
    "\n",
    "\n",
    "## 5.7 คำถามท้ายบท\n",
    "1. จงอธิบายว่าปุ่มย้อนกลับของบราวเซอร์ควรจะเก็บข้อมูลการท่องเวบอย่างไร พร้อมยกตัวอย่าง\n",
    "2. จงลองแก้ตัวอย่าง (()()()()) และ ((((((()) ด้วยมือ\n",
    "3. จงออกแบบและเขียนโปรแกรมเพื่อแก้ปัญหาการตรวจสอบวงเล็บทุกชนิด (){}[]\n",
    "4. จงเขียนโปรแกรมเพื่อแปลงเลขฐาน $10$ เป็นเลขฐานใดๆ\n",
    "5. จงเขียนโปรแกรมที่ทำการจำลองเกมมันร้อนโดยที่มี list ของ int เป็นตัวบอกว่าแต่ละรอบจะส่งมันต่อกี่ครั้ง\n",
    "6. จงออกแบบแบบชนิดข้อมูลนามธรรมและเมธอดของคลาส deque แล้วสร้างคลาส deque ด้วย\n",
    "7. จงเขียนรหัสสำหรับเมธอด append, index, insert และ pop ของ UnorderedList\n",
    "8. จงสร้างคลาส OrderedList โดยใช้คลาส Node ที่มีอยู่แล้ว"
   ]
  }
 ],
 "metadata": {
  "kernelspec": {
   "display_name": "Python 3",
   "language": "python",
   "name": "python3"
  },
  "language_info": {
   "codemirror_mode": {
    "name": "ipython",
    "version": 3
   },
   "file_extension": ".py",
   "mimetype": "text/x-python",
   "name": "python",
   "nbconvert_exporter": "python",
   "pygments_lexer": "ipython3",
   "version": "3.6.0"
  }
 },
 "nbformat": 4,
 "nbformat_minor": 2
}
