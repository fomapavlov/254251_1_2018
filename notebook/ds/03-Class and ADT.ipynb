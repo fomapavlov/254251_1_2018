{
 "cells": [
  {
   "cell_type": "markdown",
   "metadata": {},
   "source": [
    "# บทที่ 3 คลาสและแบบชนิดข้อมูลนามธรรม\n",
    "\n",
    "การสร้างรูปแบบข้อมูลจำเป็นจะต้องทำตามขั้นตอนของแบบชนิดข้อมูลนามธรรม ดังนี้\n",
    "1. กำหนดเซตของชนิดข้อมูล\n",
    "2. กำหนดตัวดำเนินการและเมธอดสำหรับแบบชนิดข้อมูลนามธรรม\n",
    "โดยที่ยังไม่ต้องสนใจรหัสภายในของแต่ละตัวดำเนินการและเมธอดหรือเรียกอีกอย่างว่าเป็น ส่วนต่อประสาน (interface) \n",
    "\n",
    "ซึ่งต้องอาศัยการเขียนโปรแกรมเชิงวัตถุในการสร้างคลาส (class) โดยความสัมพันธ์ระหว่างแบบชนิดข้อมูลนามธรรมกับคลาสนั้นตรงไปตรงมา คือ การกำหนดชนิดข้อมูลต่างๆ ที่ใช้ในแบบชนิดข้อมูลนามธรรมคือการประกาศชนิดข้อมูลตัวแปรต่างๆ ในคลาสและการกำหนดตัวดำเนินการและเมธอดสำหรับแบบชนิดข้อมูลนามธรรมคือการประกาศส่วนต่อประสานสำหรับคลาส\n",
    "\n",
    "## 3.1 จุดประสงค์\n",
    "* เพื่อให้เข้าใจถึงการสร้างคลาสในภาษาไพทอน\n",
    "* เพื่อให้เข้าใจถึงการมองคลาสด้วยแบบชนิดข้อมูลนามธรรม\n",
    "\n",
    "## 3.2 คลาสของตัวเลขแบบเศษส่วน (fraction)\n",
    "ขอยกตัวอย่างด้วยคลาสของตัวเลขแบบเศษส่วน เลขเศษส่วนคือเลขที่เขียนอยู่ในรูปการหารของ int 2 ตัว เช่น $\\frac{2}{3}$ เรียก 2 ว่าตัวเศษ (numerator) และ 3 คือตัวส่วน (denominator) ซึ่งตัวส่วนจะต้องเป็น int ที่มากกว่า 0 หากติดลบให้ไปติดลบที่ตัวเศษแทน\n",
    "\n",
    "ตัวเลขแบบเศษส่วนถูกมองเหมือนเป็นตัวเลขทั่วไปที่ต้องการตัวดำเนินการพื้นฐาน +, -, \\*, / ต้องการแสดงผลตัวมันเองด้วยรูปเศษส่วน เช่น $\\frac{2}{3}$ ซึ่งต้องอยู่ในรูปแบบเศษส่วนอย่างต่ำด้วย \n",
    "\n",
    "การประกาศคลาสในภาษาไพทอนทำดังนี้"
   ]
  },
  {
   "cell_type": "code",
   "execution_count": 1,
   "metadata": {
    "collapsed": false
   },
   "outputs": [],
   "source": [
    "class Fraction :\n",
    "    def __init__(self,top,bottom):\n",
    "        self.num = top\n",
    "        self.den = bottom"
   ]
  },
  {
   "cell_type": "markdown",
   "metadata": {},
   "source": [
    "คลาสมีเชื่อว่า Fraction ส่วนรหัสด้านล่างที่ย่อหน้าเข้าไปทั้งหมดคือส่วนประกอบของคลาสซึ่งมีการสร้างฟังก์ชันที่ชื่อ \\_\\_init\\_\\_ ขึ้นมาฟังก์ชันที่อยู่ในคลาสเราเรียกว่าเป็นเมธอดซึ่งเมธอดที่มีชื่อในลักษณะ \\_\\_ชื่อเมธอด\\_\\_ คือ การโอเวอร์ไรด์ (override) ในการเขียนโปรแกรมเชิงวัตถุ มีหลายเมธอดที่ถูกโอเวอร์ไรด์ในลักษณะนี้ แต่พฤติกรรมจะต่างกันออกไป โดย init คือ คอนสตรัคเตอร์ (constructor) เป็นเมธอดที่ใช้ในการสร้างพื้นที่สำหรับตัวแปรชนิดคลาสนั้นขึ้นมา โดยเมธอดทุกเมธอดจะต้องรับพารามิเตอร์ตัวแรกคือ self เสมอ และเมื่ออ้างถึงตัวแปรภายในคลาสก็จะใช้ self เป็นตัวอ้างถึงตัวแปร ตัวอย่างข้างบนนี้คือ self.num กับ self.den ซึ่งถือเป็นตัวแปรภายในคลาสนี้โดยปริยาย"
   ]
  },
  {
   "cell_type": "code",
   "execution_count": 2,
   "metadata": {
    "collapsed": false
   },
   "outputs": [
    {
     "data": {
      "text/html": [
       "\n",
       "        <iframe\n",
       "            width=\"1050\"\n",
       "            height=\"512\"\n",
       "            src=\"http://www.pythontutor.com/iframe-embed.html#code=class%20Fraction%20%3A%0A%20%20%20%20def%20__init__%28self,top,bottom%29%3A%0A%20%20%20%20%20%20%20%20self.num%20%3D%20top%0A%20%20%20%20%20%20%20%20self.den%20%3D%20bottom%0A%20%20%20%20%20%20%20%20%0AmyFraction%20%3D%20Fraction%282,3%29&cumulative=false&curInstr=6&heapPrimitives=false&mode=display&origin=opt-frontend.js&py=3&rawInputLstJSON=%5B%5D&textReferences=false\"\n",
       "            frameborder=\"0\"\n",
       "            allowfullscreen\n",
       "        ></iframe>\n",
       "        "
      ],
      "text/plain": [
       "<IPython.lib.display.IFrame at 0x1bf7828dbe0>"
      ]
     },
     "execution_count": 2,
     "metadata": {},
     "output_type": "execute_result"
    }
   ],
   "source": [
    "from IPython.display import IFrame\n",
    "IFrame('http://www.pythontutor.com/iframe-embed.html#code=class%20Fraction%20%3A%0A%20%20%20%20def%20__init__%28self,top,bottom%29%3A%0A%20%20%20%20%20%20%20%20self.num%20%3D%20top%0A%20%20%20%20%20%20%20%20self.den%20%3D%20bottom%0A%20%20%20%20%20%20%20%20%0AmyFraction%20%3D%20Fraction%282,3%29&cumulative=false&curInstr=6&heapPrimitives=false&mode=display&origin=opt-frontend.js&py=3&rawInputLstJSON=%5B%5D&textReferences=false', width=1050, height=512)"
   ]
  },
  {
   "cell_type": "markdown",
   "metadata": {},
   "source": [
    "เราจะเห็นได้ว่าเมื่อมีการประกาศ myFraction = Fraction(2,3) แล้วจะมีการสร้างพื้นที่ในหน่วยความจำให้กับ num และ den หลังจากนั้นจึงคืนค่าตำแหน่งอ้างอิงให้กับ myFraction ดังขั้นตอนที่ 4 - 7"
   ]
  },
  {
   "cell_type": "code",
   "execution_count": 3,
   "metadata": {
    "collapsed": false
   },
   "outputs": [
    {
     "name": "stdout",
     "output_type": "stream",
     "text": [
      "<__main__.Fraction object at 0x000001BF7828DF60>\n"
     ]
    }
   ],
   "source": [
    "myFraction = Fraction(2,3)\n",
    "print(myFraction)"
   ]
  },
  {
   "cell_type": "markdown",
   "metadata": {},
   "source": [
    "เมื่อลองแสดงผล myFraction ดูพบว่าสิ่งที่ได้คือการอ้างอิงของ myFraction ซึ่งไม่สื่อความหมายใดๆ เลย วิธีแก้ปัญหาคือสร้างเมธอดสำหรับแสดงผลขึ้นมาเอง"
   ]
  },
  {
   "cell_type": "code",
   "execution_count": 4,
   "metadata": {
    "collapsed": false
   },
   "outputs": [
    {
     "name": "stdout",
     "output_type": "stream",
     "text": [
      "2 / 3\n"
     ]
    }
   ],
   "source": [
    "class Fraction :\n",
    "    def __init__(self,top,bottom):\n",
    "        self.num = top\n",
    "        self.den = bottom\n",
    "    def show(self) :\n",
    "        print(self.num,\"/\",self.den)\n",
    "\n",
    "myFraction = Fraction(2,3)\n",
    "myFraction.show()"
   ]
  },
  {
   "cell_type": "markdown",
   "metadata": {},
   "source": [
    "แต่ด้วยการเขียนโปรแกรมเชิงวัตถุเมื่อเราสามารถโอเวอร์ไรด์\\__init\\__ ได้ สามารถโอเวอร์ไรด์เมธอดที่เกี่ยวข้องกับการแสดงผลคือ \\__str\\__ ได้เช่นกัน"
   ]
  },
  {
   "cell_type": "code",
   "execution_count": 5,
   "metadata": {
    "collapsed": false
   },
   "outputs": [
    {
     "name": "stdout",
     "output_type": "stream",
     "text": [
      "2/3\n"
     ]
    }
   ],
   "source": [
    "class Fraction :\n",
    "    def __init__(self,top,bottom):\n",
    "        self.num = top\n",
    "        self.den = bottom\n",
    "    def __str__(self) :\n",
    "        return str(self.num) + \"/\" + str(self.den)\n",
    "\n",
    "myFraction = Fraction(2,3)\n",
    "print(myFraction)"
   ]
  },
  {
   "cell_type": "markdown",
   "metadata": {},
   "source": [
    "\\__str\\__ เป็นเมธอดที่รับพารามิเตอร์แค่ self ซึ่งเมื่อใช้งานจริงแล้วคือไม่รับพารามิเตอร์ใดเลย ภายในเมธอดจะทำหน้าที่แปลงอยู่ในรูปแบบสายอักขระที่ต้องการและต้องคืนค่าเป็น str เท่านั้น โดยเมธอดจะถูกเรียกใช้เมื่อเจอคำสั่ง print ดังขั้นตอนที่ 7 - 10 ตามการไล่รหัสด้านล่าง"
   ]
  },
  {
   "cell_type": "code",
   "execution_count": 6,
   "metadata": {
    "collapsed": false
   },
   "outputs": [
    {
     "data": {
      "text/html": [
       "\n",
       "        <iframe\n",
       "            width=\"1050\"\n",
       "            height=\"512\"\n",
       "            src=\"http://www.pythontutor.com/iframe-embed.html#code=class%20Fraction%20%3A%0A%20%20%20%20def%20__init__%28self,top,bottom%29%3A%0A%20%20%20%20%20%20%20%20self.num%20%3D%20top%0A%20%20%20%20%20%20%20%20self.den%20%3D%20bottom%0A%20%20%20%20def%20__str__%28self%29%20%3A%0A%20%20%20%20%20%20%20%20return%20str%28self.num%29%20%2B%20%22/%22%20%2B%20str%28self.den%29%0A%0AmyFraction%20%3D%20Fraction%282,3%29%0Aprint%28myFraction%29&cumulative=false&curInstr=6&heapPrimitives=false&mode=display&origin=opt-frontend.js&py=3&rawInputLstJSON=%5B%5D&textReferences=false\"\n",
       "            frameborder=\"0\"\n",
       "            allowfullscreen\n",
       "        ></iframe>\n",
       "        "
      ],
      "text/plain": [
       "<IPython.lib.display.IFrame at 0x1bf782f1470>"
      ]
     },
     "execution_count": 6,
     "metadata": {},
     "output_type": "execute_result"
    }
   ],
   "source": [
    "from IPython.display import IFrame\n",
    "url = 'http://www.pythontutor.com/iframe-embed.html#code=class%20Fraction%20%3A%0A%20%20%20%20def%20__init__%28self,top,bottom%29%3A%0A%20%20%20%20%20%20%20%20self.num%20%3D%20top%0A%20%20%20%20%20%20%20%20self.den%20%3D%20bottom%0A%20%20%20%20def%20__str__%28self%29%20%3A%0A%20%20%20%20%20%20%20%20return%20str%28self.num%29%20%2B%20%22/%22%20%2B%20str%28self.den%29%0A%0AmyFraction%20%3D%20Fraction%282,3%29%0Aprint%28myFraction%29&cumulative=false&curInstr=6&heapPrimitives=false&mode=display&origin=opt-frontend.js&py=3&rawInputLstJSON=%5B%5D&textReferences=false'\n",
    "IFrame(url, width=1050, height=512)"
   ]
  },
  {
   "cell_type": "markdown",
   "metadata": {},
   "source": [
    "นอกจากจะใช้กับ print แล้วยังใช้ในการแปลงให้เป็นชนิด str ได้ด้วยฟังก์ชัน str ได้เช่นกัน"
   ]
  },
  {
   "cell_type": "code",
   "execution_count": 7,
   "metadata": {
    "collapsed": false
   },
   "outputs": [
    {
     "name": "stdout",
     "output_type": "stream",
     "text": [
      "2/3\n"
     ]
    }
   ],
   "source": [
    "s = str(myFraction)\n",
    "print(s)"
   ]
  },
  {
   "cell_type": "code",
   "execution_count": 8,
   "metadata": {
    "collapsed": false
   },
   "outputs": [
    {
     "ename": "TypeError",
     "evalue": "unsupported operand type(s) for +: 'Fraction' and 'Fraction'",
     "output_type": "error",
     "traceback": [
      "\u001b[0;31m---------------------------------------------------------------------------\u001b[0m",
      "\u001b[0;31mTypeError\u001b[0m                                 Traceback (most recent call last)",
      "\u001b[0;32m<ipython-input-8-80e4f6b81ad3>\u001b[0m in \u001b[0;36m<module>\u001b[0;34m()\u001b[0m\n\u001b[1;32m      1\u001b[0m \u001b[0mf1\u001b[0m \u001b[1;33m=\u001b[0m \u001b[0mFraction\u001b[0m\u001b[1;33m(\u001b[0m\u001b[1;36m1\u001b[0m\u001b[1;33m,\u001b[0m\u001b[1;36m4\u001b[0m\u001b[1;33m)\u001b[0m\u001b[1;33m\u001b[0m\u001b[0m\n\u001b[1;32m      2\u001b[0m \u001b[0mf2\u001b[0m \u001b[1;33m=\u001b[0m \u001b[0mFraction\u001b[0m\u001b[1;33m(\u001b[0m\u001b[1;36m1\u001b[0m\u001b[1;33m,\u001b[0m\u001b[1;36m2\u001b[0m\u001b[1;33m)\u001b[0m\u001b[1;33m\u001b[0m\u001b[0m\n\u001b[0;32m----> 3\u001b[0;31m \u001b[0mf1\u001b[0m \u001b[1;33m+\u001b[0m \u001b[0mf2\u001b[0m\u001b[1;33m\u001b[0m\u001b[0m\n\u001b[0m",
      "\u001b[0;31mTypeError\u001b[0m: unsupported operand type(s) for +: 'Fraction' and 'Fraction'"
     ]
    }
   ],
   "source": [
    "f1 = Fraction(1,4)\n",
    "f2 = Fraction(1,2)\n",
    "f1 + f2"
   ]
  },
  {
   "cell_type": "markdown",
   "metadata": {},
   "source": [
    "แต่จะไม่สามารถใช้ตัวดำเนินการ+ ได้เนื่องจากต้องมีการโอเวอร์ไรด์เมธอด\\__add\\__ ซึ่งสัมพันธ์กับตัวดำเนินการ + ก่อน การบวกเลขเศษส่วนนั้นคำนวณได้จากสมการ $\\frac{a}{b} + \\frac{c}{d} = \\frac{ad}{bd} + \\frac{cb}{bd} = \\frac{ad+cb}{bd}$ แปลงเป็นรหัสได้ดังนี้"
   ]
  },
  {
   "cell_type": "code",
   "execution_count": 9,
   "metadata": {
    "collapsed": false
   },
   "outputs": [
    {
     "name": "stdout",
     "output_type": "stream",
     "text": [
      "6/8\n"
     ]
    }
   ],
   "source": [
    "class Fraction :\n",
    "    def __init__(self,top,bottom):\n",
    "        self.num = top\n",
    "        self.den = bottom\n",
    "        \n",
    "    def __str__(self) :\n",
    "        return str(self.num) + \"/\" + str(self.den)\n",
    "    \n",
    "    def __add__(self,otherfraction):\n",
    "     newnum = self.num*otherfraction.den + self.den*otherfraction.num\n",
    "     newden = self.den * otherfraction.den\n",
    "     return Fraction(newnum,newden)\n",
    "\n",
    "f1 = Fraction(1,4)\n",
    "f2 = Fraction(1,2)\n",
    "f3 = f1 + f2\n",
    "print(f3)"
   ]
  },
  {
   "cell_type": "markdown",
   "metadata": {
    "collapsed": true
   },
   "source": [
    "การทำงานของตัวดำเนินการ + ทำงานได้ถูกต้องแล้วแต่ยังมีอีกเงื่อนไขหนึ่งคือ f3 จะต้องเป็นเศษส่วนอย่างต่ำด้วย ซึ่ง $\\frac{6}{8}$ รูปเศษส่วนอย่างต่ำคือ $\\frac{3}{4}$\n",
    "\n",
    "วิธีการแปลงเลขเศษส่วนใดๆ ให้อยู่ในรูปเศษส่วนอย่างต่ำทำได้โดยการหาตัวหารร่วมมาก (great common devider, gcd) ของตัวเศษและตัวส่วน แล้วนำมาหารทั้งตัวเศษและตัวส่วน ณ ที่นี้จะขอละรายละเอียดขั้นตอนวิธีของฟังก์ชัน gcd ไว้ก่อน"
   ]
  },
  {
   "cell_type": "code",
   "execution_count": 10,
   "metadata": {
    "collapsed": false
   },
   "outputs": [
    {
     "name": "stdout",
     "output_type": "stream",
     "text": [
      "2\n"
     ]
    }
   ],
   "source": [
    "def gcd(m,n):\n",
    "    while m%n != 0:\n",
    "        oldm = m\n",
    "        oldn = n\n",
    "\n",
    "        m = oldn\n",
    "        n = oldm%oldn\n",
    "    return n\n",
    "\n",
    "print(gcd(6,8))"
   ]
  },
  {
   "cell_type": "markdown",
   "metadata": {},
   "source": [
    "นำรหัสมารวมกัน"
   ]
  },
  {
   "cell_type": "code",
   "execution_count": 11,
   "metadata": {
    "collapsed": false
   },
   "outputs": [
    {
     "name": "stdout",
     "output_type": "stream",
     "text": [
      "3/4\n"
     ]
    }
   ],
   "source": [
    "def gcd(m,n):\n",
    "    while m%n != 0:\n",
    "        oldm = m\n",
    "        oldn = n\n",
    "\n",
    "        m = oldn\n",
    "        n = oldm%oldn\n",
    "    return n\n",
    "\n",
    "class Fraction :\n",
    "    def __init__(self,top,bottom):\n",
    "        self.num = top\n",
    "        self.den = bottom\n",
    "        \n",
    "    def __str__(self) :\n",
    "        return str(self.num) + \"/\" + str(self.den)\n",
    "    \n",
    "    def __add__(self,otherfraction):\n",
    "        newnum = self.num*otherfraction.den + self.den*otherfraction.num\n",
    "        newden = self.den * otherfraction.den\n",
    "        common = gcd(newnum,newden)\n",
    "        return Fraction(newnum//common,newden//common)\n",
    "\n",
    "f1 = Fraction(1,4)\n",
    "f2 = Fraction(1,2)\n",
    "f3 = f1 + f2\n",
    "print(f3)"
   ]
  },
  {
   "cell_type": "markdown",
   "metadata": {},
   "source": [
    "จากรหัสจะเห็นได้ว่าฟังก์ชัน gcd เป็นฟังก์ชันที่แยกออกมาจากคลาสดังนั้นการเรียกใช้งานจึงสามารถเรียกใช้ได้จากชื่อของฟังก์ชันโดยตรง ภายในเมธอด \\_\\_add\\_\\_ \n",
    "\n",
    "การเปรียบเทียบก็ถือเป็นตัวดำเนินการที่มีความสำคัญ การเปรียบเทียบว่าเท่ากับหรือไม่เราจะใช้เครื่องหมาย == "
   ]
  },
  {
   "cell_type": "code",
   "execution_count": 12,
   "metadata": {
    "collapsed": false
   },
   "outputs": [
    {
     "name": "stdout",
     "output_type": "stream",
     "text": [
      "False\n"
     ]
    }
   ],
   "source": [
    "f1 = Fraction(1,4)\n",
    "f2 = Fraction(1,4)\n",
    "print(f1 == f2)"
   ]
  },
  {
   "cell_type": "markdown",
   "metadata": {},
   "source": [
    "จากตัวอย่างนี้ควรจะได้คำตอบเป็น True แต่ออกมาเป็น False ทั้งนี้เนื่องจาก เมื่อเราไม่ได้กำหนดว่าตัวดำเนินการ == ต้องทำหน้าที่อย่างไร สิ่งที่ภาษาไพทอนทำให้คือนำตำแหน่งอ้างอิงของ f1 และ f2 มาเปรียบเทียบกัน ซึ่งแน่นอนว่าทั้ง f1 และ f2 ชี้ไปยังตำแหน่งในหน่วยความจำที่ต่างกันจึงได้คำตอบมาเป็น False ดังนั้น เพื่อให้ตัวดำเนินการ == ทำงานได้ถูกต้องจึงต้องทำการโอเวอร์ไรด์เมธอดที่ชื่อ \\_\\_eq\\_\\_ ซึงการที่จะโอเวอร์ไรด์ \\_\\_eq\\_\\_ นั้นพารามิเตอร์ตัวแรกเหมือนเดิมคือ self และพารามิเตอร์ที่ 2 จะถูกมองเป็นคลาส Fraction โดยอัตโนมัติ ดังรหัส"
   ]
  },
  {
   "cell_type": "code",
   "execution_count": 13,
   "metadata": {
    "collapsed": false
   },
   "outputs": [
    {
     "name": "stdout",
     "output_type": "stream",
     "text": [
      "True\n"
     ]
    }
   ],
   "source": [
    "def gcd(m,n):\n",
    "    while m%n != 0:\n",
    "        oldm = m\n",
    "        oldn = n\n",
    "\n",
    "        m = oldn\n",
    "        n = oldm%oldn\n",
    "    return n\n",
    "\n",
    "class Fraction :\n",
    "    def __init__(self,top,bottom):\n",
    "        self.num = top\n",
    "        self.den = bottom\n",
    "        \n",
    "    def __str__(self) :\n",
    "        return str(self.num) + \"/\" + str(self.den)\n",
    "    \n",
    "    def __add__(self,otherfraction):\n",
    "        newnum = self.num*otherfraction.den + self.den*otherfraction.num\n",
    "        newden = self.den * otherfraction.den\n",
    "        common = gcd(newnum,newden)\n",
    "        return Fraction(newnum//common,newden//common)\n",
    "    \n",
    "    def __eq__(self, other):\n",
    "        firstnum = self.num * other.den\n",
    "        secondnum = other.num * self.den\n",
    "        return firstnum == secondnum\n",
    "\n",
    "f1 = Fraction(1,4)\n",
    "f2 = Fraction(1,4)\n",
    "print(f1 == f2)"
   ]
  },
  {
   "cell_type": "markdown",
   "metadata": {},
   "source": [
    "ซึ่งเราสามารถใช้ other เหมือนเป็น Fraction ได้เลยทันที ส่วนวิธีการเปรียบเทียบเลขเศษส่วนนั้นทำได้ง่ายๆ โดยการคูณไขว้ตัวเศษกับตัวส่วนแล้วนำมาเปรียบเทียบกัน\n",
    "\n",
    "#### คำถาม\n",
    "ให้ทำการค้นคว้าและโอเวอร์ไรด์เมธอดที่สัมพันธ์กับตัวดำเนินการ\\*, /, -, >  และ < สำหรับ Fraction"
   ]
  },
  {
   "cell_type": "code",
   "execution_count": 14,
   "metadata": {
    "collapsed": true
   },
   "outputs": [],
   "source": [
    "# try here"
   ]
  },
  {
   "cell_type": "markdown",
   "metadata": {},
   "source": [
    "เราอาจจะสร้างเมธอดอื่นๆ เพื่ออำนวยความสะดวกได้อีก เช่น"
   ]
  },
  {
   "cell_type": "code",
   "execution_count": 15,
   "metadata": {
    "collapsed": false
   },
   "outputs": [
    {
     "name": "stdout",
     "output_type": "stream",
     "text": [
      "5\n",
      "3\n"
     ]
    }
   ],
   "source": [
    "class Fraction :\n",
    "    def __init__(self,top,bottom):\n",
    "        self.num = top\n",
    "        self.den = bottom\n",
    "        \n",
    "    def __str__(self) :\n",
    "        return str(self.num) + \"/\" + str(self.den)\n",
    "    \n",
    "    def __add__(self,otherfraction):\n",
    "        newnum = self.num*otherfraction.den + self.den*otherfraction.num\n",
    "        newden = self.den * otherfraction.den\n",
    "        common = gcd(newnum,newden)\n",
    "        return Fraction(newnum//common,newden//common)\n",
    "    \n",
    "    def __eq__(self, other):\n",
    "        firstnum = self.num * other.den\n",
    "        secondnum = other.num * self.den\n",
    "        return firstnum == secondnum\n",
    "    \n",
    "    def getNum(self) :\n",
    "        return self.num\n",
    "    \n",
    "    def getDen(self) :\n",
    "        return self.den\n",
    "    \n",
    "f1 = Fraction(5,3)\n",
    "print(f1.getNum())\n",
    "print(f1.getDen())"
   ]
  },
  {
   "cell_type": "markdown",
   "metadata": {},
   "source": [
    "เมธอดชื่อ getNum กับ getDen ถูกสร้างขึ้นมาเพื่อใช้ในการคืนค่า num กับ den แบบง่ายๆ โดยให้คำนึงเสมอว่าการอ้างอิงตัวแปรในคลาสต้องอ้างอิงผ่าน self ตามด้วย . ตามด้วยตัวแปรนั้นๆ\n",
    "\n",
    "## 3.3 แบบชนิดข้อมูลนามธรรมของตัวเลขแบบเศษส่วน\n",
    "จากการสร้างคลาส Fraction ให้พิจารณาในมุมของแบบชนิดข้อมูลนามธรรม ตามขั้นตอนของการออกแบบแบบชนิดข้อมูลนามธรรม\n",
    "1. กำหนดเซตของชนิดข้อมูล ซึ่งประกอบด้วยตัวเศษและตัวส่วนที่เป็น int ให้ชื่อว่า num และ den\n",
    "2. กำหนดตัวดำเนินการและเมธอดสำหรับแบบชนิดข้อมูลนามธรรม ซึ่งตัวดำเนินการประกอบด้วย +, - , \\*, /, ==, < และ > และเมธอดประกอบด้วย init, str, getNum และ getDen\n",
    "\n",
    "ณ ตรงนี้สามารถกำหนดแบบชนิดข้อมูลนามธรรมได้ง่ายเพราะเราทราบอยู่แล้วว่าเคยสร้างคลาสไว้อย่างไร แต่ในกระบวนการทำงานจริงๆ แล้วควรจะเริ่มจากการกำหนดแบบชนิดข้อมูลนามธรรมก่อน ตามด้วยประกาศโครงสร้างเมธอดและตัวดำเนินการในคลาสแล้วจึงทำการเขียนโปรแกรม\n",
    "\n",
    "## 3.4 คำถามท้ายบท\n",
    "1. จงค้นหาหรือยกตัวอย่างการกำหนดแบบชนิดข้อมูลนามธรรมและสร้างคลาสนั้นๆ\n",
    "2. จงแสดงการโอเวอร์ไรด์เมธอดการเปรียบเทียบและแสดงผลเป็น str"
   ]
  }
 ],
 "metadata": {
  "kernelspec": {
   "display_name": "Python 3",
   "language": "python",
   "name": "python3"
  },
  "language_info": {
   "codemirror_mode": {
    "name": "ipython",
    "version": 3
   },
   "file_extension": ".py",
   "mimetype": "text/x-python",
   "name": "python",
   "nbconvert_exporter": "python",
   "pygments_lexer": "ipython3",
   "version": "3.6.0"
  }
 },
 "nbformat": 4,
 "nbformat_minor": 2
}
